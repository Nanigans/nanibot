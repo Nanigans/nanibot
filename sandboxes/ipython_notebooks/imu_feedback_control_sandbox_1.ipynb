{
 "cells": [
  {
   "cell_type": "markdown",
   "metadata": {},
   "source": [
    "## Notes\n",
    "\n",
    "### TODO\n",
    "- Enhance feedback controller to handle sensor wrap more robustly\n",
    " - Potentially force an initial sensor offset of 180 (to maximize operating space before wrap)\n",
    " - Probably need to enforce a max turn rate to avoid ambiguity between wakeups\n",
    "- Potentially switch controller from mixed mode to differential mode\n",
    "- Add mutexes and condition variables in several places to increase robustness\n",
    "\n",
    "### Overview\n",
    "\n",
    "\n",
    "### READ THIS BEFORE RUNNING\n",
    "- Some of the following experiments depend on the PIGPIO daemon.  To activate the daemon process, execute the following command on the host machine for this notebook: \"sudo pigpiod\" (Note: This should be done before running the experiment cells that depend on it.)\n",
    "\n",
    "### How to run this notebook\n",
    "##### Launch jupyter notebook server on RPi\n",
    "- From a local terminal session, log into the RPi on the rover\n",
    "- run \"source ~/.profile\" to make sure virtualenvwrapper environment variables are set\n",
    "- run \"workon rover1\" to launch the correct virtual environment\n",
    "- cd to the repo root directory (nominally ~/nanibot)\n",
    "- run \"jupyter notebook --no-browser --port=[port #]\" to launch the notebook server\n",
    "\n",
    "##### Setup ssh tunneling and port forwarding on local machine\n",
    "- run \"ssh -N -f -L localhost:[port #]:localhost:[port #] pi@[RPi host IP]\"\n",
    "- From local browser, go to localhost:[port #]\n",
    "\n",
    "### Implementation Details\n",
    "\n",
    "### Test Design\n",
    " \n",
    "### Conclusions\n",
    "\n",
    "### Next Steps\n"
   ]
  },
  {
   "cell_type": "markdown",
   "metadata": {},
   "source": [
    "## Component Code"
   ]
  },
  {
   "cell_type": "code",
   "execution_count": 11,
   "metadata": {
    "collapsed": true
   },
   "outputs": [],
   "source": [
    "%matplotlib inline\n",
    "from __future__ import division\n",
    "import time\n",
    "import sys\n",
    "from scipy import signal\n",
    "import matplotlib.pyplot as plt\n",
    "import numpy as np\n",
    "import pandas as pd\n",
    "import json\n",
    "from Adafruit_BNO055 import BNO055\n",
    "import serial\n",
    "from serial.serialutil import SerialException\n",
    "import multiprocessing as multiproc"
   ]
  },
  {
   "cell_type": "code",
   "execution_count": 12,
   "metadata": {
    "collapsed": false
   },
   "outputs": [],
   "source": [
    "# -- Define some configuration constants for the imu sensor --\n",
    "CALIBRATION_FILE='/home/pi/nanibot/rover1/peripherals/bno055_imu/calibration/calibration.json'\n",
    "CALIBRATION_DATA=[1, 0, 2, 0, 244, 255, 223, 255, 50, 1, 210, 255, 253, 255, 255, 255, 2, 0, 232, 3, 181, 2]\n",
    "\n",
    "BNO_AXIS_REMAP = {\n",
    "        'x': BNO055.AXIS_REMAP_Y,\n",
    "        'y': BNO055.AXIS_REMAP_X,\n",
    "        'z': BNO055.AXIS_REMAP_Z,\n",
    "        'x_sign': BNO055.AXIS_REMAP_NEGATIVE,\n",
    "        'y_sign': BNO055.AXIS_REMAP_POSITIVE,\n",
    "        'z_sign': BNO055.AXIS_REMAP_POSITIVE }"
   ]
  },
  {
   "cell_type": "code",
   "execution_count": 13,
   "metadata": {
    "collapsed": false
   },
   "outputs": [
    {
     "data": {
      "text/plain": [
       "['/home/pi/nanibot/rover1',\n",
       " '',\n",
       " '/usr/local/lib/python2.7/dist-packages/Adafruit_BNO055-1.0.1-py2.7.egg',\n",
       " '/usr/local/lib/python2.7/dist-packages/Adafruit_GPIO-1.0.0-py2.7.egg',\n",
       " '/usr/local/lib/python2.7/dist-packages/Adafruit_PureIO-0.2.0-py2.7.egg',\n",
       " '/usr/lib/python2.7/dist-packages',\n",
       " '/usr/lib/python2.7',\n",
       " '/usr/lib/python2.7/plat-arm-linux-gnueabihf',\n",
       " '/usr/lib/python2.7/lib-tk',\n",
       " '/usr/lib/python2.7/lib-old',\n",
       " '/usr/lib/python2.7/lib-dynload',\n",
       " '/usr/local/lib/python2.7/dist-packages',\n",
       " '/usr/lib/python2.7/dist-packages/gtk-2.0',\n",
       " '/usr/lib/pymodules/python2.7',\n",
       " '/usr/local/lib/python2.7/dist-packages/IPython/extensions',\n",
       " '/home/pi/.ipython']"
      ]
     },
     "execution_count": 13,
     "metadata": {},
     "output_type": "execute_result"
    }
   ],
   "source": [
    "# - Add the main rover source tree to sys.path so modules are accessible - \n",
    "rover1_path = '/home/pi/nanibot/rover1'\n",
    "if rover1_path not in sys.path:\n",
    "    sys.path.insert(0,rover1_path)\n",
    "sys.path"
   ]
  },
  {
   "cell_type": "code",
   "execution_count": 14,
   "metadata": {
    "collapsed": false
   },
   "outputs": [],
   "source": [
    "import peripherals.bno055_imu.inertial_sensor_bno055 as imu\n",
    "import peripherals.sabertooth.sabertooth_adapter as sabertooth_adapter\n",
    "import components.driving.motor_control as motor_control"
   ]
  },
  {
   "cell_type": "code",
   "execution_count": 58,
   "metadata": {
    "collapsed": false
   },
   "outputs": [
    {
     "data": {
      "text/plain": [
       "<module 'peripherals.bno055_imu.inertial_sensor_bno055' from '/home/pi/nanibot/rover1/peripherals/bno055_imu/inertial_sensor_bno055.pyc'>"
      ]
     },
     "execution_count": 58,
     "metadata": {},
     "output_type": "execute_result"
    }
   ],
   "source": [
    "reload(imu)"
   ]
  },
  {
   "cell_type": "code",
   "execution_count": 15,
   "metadata": {
    "collapsed": true
   },
   "outputs": [],
   "source": [
    "class HeadingEstimator(object):\n",
    "    \n",
    "    def __init__(self,sensor):\n",
    "        \n",
    "        self._sensor = sensor\n",
    "        self._last_validity_time = time.time()\n",
    "        self._last_heading = 0\n",
    "        \n",
    "    @property\n",
    "    def last_heading(self):\n",
    "        return self._last_heading\n",
    "    \n",
    "    @property\n",
    "    def last_validity_time(self):\n",
    "        return self._last_validity_time\n",
    "    \n",
    "    def _updateStateEstimates(self):\n",
    "        \n",
    "        meas = self._sensor.get_measurement()\n",
    "        # - Update state estimates\n",
    "        self._last_validity_time = meas['update_time']\n",
    "        self._last_heading = meas['heading']\n",
    "        \n",
    "    def getCurrentState(self):\n",
    "        self._updateStateEstimates()\n",
    "\n",
    "        return {\n",
    "            'heading':self.last_heading,\n",
    "            'validity_time':self.last_validity_time}"
   ]
  },
  {
   "cell_type": "code",
   "execution_count": 91,
   "metadata": {
    "collapsed": false
   },
   "outputs": [],
   "source": [
    "class FeedbackControlSystemManager(object):\n",
    "    \n",
    "    def __init__(self):\n",
    "        self._control_loop_stop_flag = multiproc.Value('b',0)\n",
    "        self._set_point = multiproc.Value('f',0.0)\n",
    "        \n",
    "    @property\n",
    "    def control_loop_stop_flag(self):\n",
    "        return self._control_loop_stop_flag\n",
    "    \n",
    "    @property\n",
    "    def set_point(self):\n",
    "        return self._set_point\n",
    "    \n",
    "    def update_set_point(self,new_set_point):\n",
    "        self._set_point.value = new_set_point\n",
    "    \n",
    "    def stop_control_loop(self):\n",
    "        self._control_loop_stop_flag.value = 1\n",
    "        self._feedback_iteration_proc.join(10)\n",
    "    \n",
    "    def launch_heading_feedback_control_system(self):\n",
    "        \n",
    "        # Make sure stop flag is initialized\n",
    "        self._clear_control_loop_stop_flag()\n",
    "        \n",
    "        self._feedback_iteration_proc = multiproc.Process(\n",
    "            target=self._heading_feedback_control_loop,\n",
    "            args=(\n",
    "                self.control_loop_stop_flag, # stop_control_loop\n",
    "                self.set_point, # heading_set_point\n",
    "                0.1)) # update_interval_sec\n",
    "        #self._feedback_iteration_proc.daemon = True  # Don't let the BNO reading thread block exiting.\n",
    "        self._feedback_iteration_proc.start()\n",
    "        \n",
    "    def _clear_control_loop_stop_flag(self):\n",
    "        self._control_loop_stop_flag.value = 0\n",
    "    \n",
    "    def _heading_feedback_control_loop(\n",
    "        self,\n",
    "        stop_control_loop,\n",
    "        heading_set_point,\n",
    "        update_interval_sec):\n",
    "        \n",
    "        sensor_update_frequency_hz = 10.0\n",
    "        \n",
    "        # - Construct Feedback Control System Components\n",
    "        motorControllerAdapter = sabertooth_adapter.SabertoothPacketizedAdapterGPIO()\n",
    "        motor_controller = motor_control.MotorController(motorControllerAdapter)\n",
    "        heading_sensor = imu.MultiprocessHeadingSensorBNO055(\n",
    "            sensor_update_frequency_hz=sensor_update_frequency_hz)\n",
    "        heading_estimator = HeadingEstimator(heading_sensor)\n",
    "\n",
    "        feedback_controller = HeadingFeedbackController(\n",
    "            heading_estimator, # observer\n",
    "            motor_controller, # motor_controller\n",
    "            update_interval_sec, # update_interval_sec\n",
    "            0.4, #proportional_gain\n",
    "            0.0, # integral_gain\n",
    "            measurement_offset=0,\n",
    "            initial_state=heading_set_point.value,\n",
    "            nominal_forward_power=25,\n",
    "            verbose=False)\n",
    "        \n",
    "        while stop_control_loop.value == 0:\n",
    "            # TODO: add mutex around this\n",
    "            feedback_controller.update_set_point(heading_set_point.value)\n",
    "            feedback_controller.update_plant_command()\n",
    "            time.sleep(update_interval_sec)\n",
    "        \n",
    "        motor_controller.stop()\n",
    "        raise ValueError('Stopped updating feedback controller because of stop condition.')\n",
    "        \n",
    "        \n",
    "\n",
    "class HeadingFeedbackController(object):\n",
    "    \n",
    "    _observer_timeout_sec = 5\n",
    "    \n",
    "    def __init__(\n",
    "        self,\n",
    "        observer,\n",
    "        motor_controller,\n",
    "        update_interval_sec,\n",
    "        proportional_gain,\n",
    "        integral_gain,\n",
    "        measurement_offset=0,\n",
    "        initial_state=0,\n",
    "        nominal_forward_power=0,\n",
    "        verbose=False):\n",
    "        \n",
    "        self._verbose = verbose\n",
    "        self._break_feedback_iterator = False\n",
    "        \n",
    "        # Set the interval on which the feedback controller will try to make updates\n",
    "        self._update_interval_sec = update_interval_sec\n",
    "        # Set heading observer\n",
    "        self._observer = observer\n",
    "        # Set motor controller and ensure that we're initially not driving\n",
    "        self._motor_controller = motor_controller\n",
    "        self._nominal_forward_power = nominal_forward_power\n",
    "        self._motor_controller.stop()\n",
    "        self._driving = False\n",
    "        \n",
    "        # Set the feedback gains\n",
    "        self._P_gain = proportional_gain\n",
    "        self._I_gain = integral_gain\n",
    "        \n",
    "        # Set the measurement calibration offset\n",
    "        self._measurement_offset = measurement_offset\n",
    "        \n",
    "        # Initialize last observer time as current time\n",
    "        self._last_observer_update_time = time.time()\n",
    "        # Initialize last controller update time as current time\n",
    "        self._last_controller_update_time = time.time()\n",
    "        # Keep track of initial invocation time, for logging and debugging\n",
    "        self._start_time = time.time()\n",
    "        \n",
    "        self._set_point = initial_state\n",
    "        self._last_heading_estimate = initial_state\n",
    "        self._last_plant_command = initial_state\n",
    "        self._cumulative_error = 0\n",
    "        \n",
    "        \n",
    "    @property\n",
    "    def set_point(self):\n",
    "        return self._set_point\n",
    "    \n",
    "    def update_set_point(self,set_point):\n",
    "        \"\"\"TODO: add safety limits\"\"\"\n",
    "        self._set_point = set_point\n",
    "        \n",
    "    def update_plant_command(self):\n",
    "        \"\"\"\n",
    "        Attempt to update the motor controller command, send stop command if something goes wrong\n",
    "        \n",
    "        \"\"\"\n",
    "        try:\n",
    "            # If we're not yet driving, send nominal forward command to motor controller\n",
    "            if not self._driving:\n",
    "                # Set nominal forward power on motor controller\n",
    "                self._motor_controller.goForward(power_percent=self._nominal_forward_power)\n",
    "                self._driving = True\n",
    "            \n",
    "            new_plant_command = self._get_new_plant_command()\n",
    "            old_plant_command = self._motor_controller.currentLeftRightSetting\n",
    "            heading_change = new_plant_command - old_plant_command\n",
    "            self._motor_controller.adjustLeftRightSetting(heading_change)\n",
    "        except:\n",
    "            self._motor_controller.stop()\n",
    "            raise\n",
    "        \n",
    "    def _get_control_error(self,measurement,set_point):\n",
    "        measurement -= 180\n",
    "        set_point -= 180\n",
    "        diff = set_point - measurement\n",
    "        if diff > 180:\n",
    "            return diff - 360\n",
    "        elif diff < -180:\n",
    "            return 360 + diff\n",
    "        else:\n",
    "            return diff\n",
    "        \n",
    "    def _get_new_plant_command(self):\n",
    "        # Compute new motor command from proportional feedback\n",
    "        observer_data = self._observer.getCurrentState()\n",
    "        state_validity_time = observer_data['validity_time']\n",
    "        \n",
    "        # If observer data is too old, raise exception that should shut down the motors\n",
    "        current_time = time.time()\n",
    "        if current_time - state_validity_time >= self._observer_timeout_sec:\n",
    "            error_str_details = \"{0:.1f} (current) - {1:.1f} (validity) = {2:.1f} (diff)\".format(\n",
    "                current_time,\n",
    "                state_validity_time,\n",
    "                current_time-state_validity_time)\n",
    "            raise ValueError('observer data has become too stale.\\n\\t'+error_str_details)\n",
    "            \n",
    "        # Make sure there's a valid set point and heading measurement \n",
    "        # - Should raise ValueError otherwise\n",
    "        gain = float(self._P_gain)\n",
    "        set_point = float(self.set_point)\n",
    "        calibrated_state_estimate = float(observer_data['heading']) - float(self._measurement_offset)\n",
    "        \n",
    "        # --- Proportional Error Feedback ---\n",
    "        new_plant_command = gain * self._get_control_error(calibrated_state_estimate,set_point)\n",
    "        if self._verbose:\n",
    "            print '\\n\\ntime: {}\\nset point: {}\\ncalibrated observer heading: {}, \\nnew command: {}'.format(\n",
    "                current_time - self._start_time,\n",
    "                set_point,\n",
    "                calibrated_state_estimate,\n",
    "                new_plant_command)\n",
    "            \n",
    "        return new_plant_command\n",
    "    "
   ]
  },
  {
   "cell_type": "markdown",
   "metadata": {},
   "source": [
    "### Feedback System Component Construction"
   ]
  },
  {
   "cell_type": "code",
   "execution_count": 17,
   "metadata": {
    "collapsed": false
   },
   "outputs": [
    {
     "name": "stdout",
     "output_type": "stream",
     "text": [
      "motor command:  131   2   10   15\n"
     ]
    }
   ],
   "source": [
    "sensor_update_frequency_hz = 10.0\n",
    "\n",
    "motorControllerAdapter = sabertooth_adapter.SabertoothPacketizedAdapterGPIO()\n",
    "motor_controller = motor_control.MotorController(motorControllerAdapter)\n",
    "heading_sensor = imu.MultiprocessHeadingSensorBNO055(\n",
    "    sensor_update_frequency_hz=sensor_update_frequency_hz)\n",
    "heading_estimator = HeadingEstimator(heading_sensor)"
   ]
  },
  {
   "cell_type": "markdown",
   "metadata": {},
   "source": [
    "### Heading Sensor Commands"
   ]
  },
  {
   "cell_type": "code",
   "execution_count": 18,
   "metadata": {
    "collapsed": false
   },
   "outputs": [
    {
     "data": {
      "text/plain": [
       "{'heading': 359.9375,\n",
       " 'lookup_time': 1485908657.197098,\n",
       " 'update_count': 32.0,\n",
       " 'update_time': 1485908657.158307}"
      ]
     },
     "execution_count": 18,
     "metadata": {},
     "output_type": "execute_result"
    }
   ],
   "source": [
    "heading_sensor.get_measurement()"
   ]
  },
  {
   "cell_type": "code",
   "execution_count": 120,
   "metadata": {
    "collapsed": true
   },
   "outputs": [],
   "source": [
    "heading_sensor.shutdown()"
   ]
  },
  {
   "cell_type": "code",
   "execution_count": 109,
   "metadata": {
    "collapsed": false
   },
   "outputs": [
    {
     "name": "stdout",
     "output_type": "stream",
     "text": [
      "{'update_time': 1485746305.249094, 'heading': 47.75, 'lookup_time': 1485746305.353655, 'update_count': 15290.0}\n"
     ]
    },
    {
     "data": {
      "text/plain": [
       "{'heading': 47.75, 'validity_time': 1485746305.249094}"
      ]
     },
     "execution_count": 109,
     "metadata": {},
     "output_type": "execute_result"
    }
   ],
   "source": [
    "heading_estimator.getCurrentState()"
   ]
  },
  {
   "cell_type": "markdown",
   "metadata": {},
   "source": [
    "### Motor Controller Commands "
   ]
  },
  {
   "cell_type": "code",
   "execution_count": 24,
   "metadata": {
    "collapsed": false
   },
   "outputs": [
    {
     "name": "stdout",
     "output_type": "stream",
     "text": [
      "motor command:  131   13   64   80\n"
     ]
    }
   ],
   "source": [
    "motor_controller.goStraight()"
   ]
  },
  {
   "cell_type": "code",
   "execution_count": 25,
   "metadata": {
    "collapsed": false
   },
   "outputs": [
    {
     "name": "stdout",
     "output_type": "stream",
     "text": [
      "motor command:  131   12   102   117\n"
     ]
    }
   ],
   "source": [
    "motor_controller.adjustFwdBwdSetting(power_change=20)"
   ]
  },
  {
   "cell_type": "code",
   "execution_count": 51,
   "metadata": {
    "collapsed": false
   },
   "outputs": [
    {
     "name": "stdout",
     "output_type": "stream",
     "text": [
      "motor command:  131   0   0   3\n",
      "motor command:  131   4   0   7\n"
     ]
    }
   ],
   "source": [
    "motor_controller.stop()"
   ]
  },
  {
   "cell_type": "markdown",
   "metadata": {},
   "source": [
    "## New Feedback Control System "
   ]
  },
  {
   "cell_type": "code",
   "execution_count": 92,
   "metadata": {
    "collapsed": true
   },
   "outputs": [],
   "source": [
    "control_system = FeedbackControlSystemManager()"
   ]
  },
  {
   "cell_type": "code",
   "execution_count": 138,
   "metadata": {
    "collapsed": true
   },
   "outputs": [],
   "source": [
    "control_system.stop_control_loop()"
   ]
  },
  {
   "cell_type": "code",
   "execution_count": 137,
   "metadata": {
    "collapsed": true
   },
   "outputs": [],
   "source": [
    "control_system.update_set_point(180)"
   ]
  },
  {
   "cell_type": "code",
   "execution_count": null,
   "metadata": {
    "collapsed": true
   },
   "outputs": [],
   "source": []
  },
  {
   "cell_type": "code",
   "execution_count": 121,
   "metadata": {
    "collapsed": false
   },
   "outputs": [
    {
     "name": "stdout",
     "output_type": "stream",
     "text": [
      "motor command:  131   2   10   15\n",
      "motor command:  131   0   0   3\n",
      "motor command:  131   4   0   7\n",
      "motor command:  131   12   80   95\n",
      "{'update_time': 1485912488.090583, 'heading': 359.9375, 'lookup_time': 1485912488.134451, 'update_count': 2.0}\n",
      "motor command:  131   13   65   81\n",
      "{'update_time': 1485912488.302496, 'heading': 359.9375, 'lookup_time': 1485912488.357386, 'update_count': 4.0}\n",
      "motor command:  131   13   65   81\n",
      "{'update_time': 1485912488.514857, 'heading': 0.125, 'lookup_time': 1485912488.59004, 'update_count': 6.0}\n",
      "motor command:  131   13   62   78\n",
      "{'update_time': 1485912488.863182, 'heading': 0.25, 'lookup_time': 1485912488.874756, 'update_count': 9.0}\n",
      "motor command:  131   13   62   78\n",
      "{'update_time': 1485912489.070939, 'heading': 359.9375, 'lookup_time': 1485912489.09432, 'update_count': 11.0}\n",
      "motor command:  131   13   65   81\n",
      "{'update_time': 1485912489.281067, 'heading': 359.8125, 'lookup_time': 1485912489.312762, 'update_count': 13.0}\n",
      "motor command:  131   13   65   81\n",
      "{'update_time': 1485912489.490742, 'heading': 359.8125, 'lookup_time': 1485912489.54306, 'update_count': 15.0}\n",
      "motor command:  131   13   65   81\n",
      "{'update_time': 1485912489.699147, 'heading': 0.0, 'lookup_time': 1485912489.757846, 'update_count': 17.0}\n",
      "motor command:  131   13   65   81\n",
      "{'update_time': 1485912489.913035, 'heading': 0.0, 'lookup_time': 1485912489.974917, 'update_count': 19.0}\n",
      "motor command:  131   13   65   81\n",
      "{'update_time': 1485912490.126533, 'heading': 0.0625, 'lookup_time': 1485912490.192339, 'update_count': 21.0}\n",
      "motor command:  131   13   62   78\n",
      "{'update_time': 1485912490.337295, 'heading': 359.9375, 'lookup_time': 1485912490.414336, 'update_count': 23.0}\n",
      "motor command:  131   13   65   81\n",
      "{'update_time': 1485912490.547268, 'heading': 359.75, 'lookup_time': 1485912490.641279, 'update_count': 25.0}\n",
      "motor command:  131   13   65   81\n",
      "{'update_time': 1485912490.860882, 'heading': 0.0, 'lookup_time': 1485912490.862025, 'update_count': 28.0}\n",
      "motor command:  131   13   65   81\n",
      "{'update_time': 1485912491.078908, 'heading': 0.5, 'lookup_time': 1485912491.096206, 'update_count': 30.0}\n",
      "motor command:  131   13   62   78\n",
      "{'update_time': 1485912491.299201, 'heading': 0.75, 'lookup_time': 1485912491.319125, 'update_count': 32.0}\n",
      "motor command:  131   13   62   78\n",
      "{'update_time': 1485912491.510646, 'heading': 0.5, 'lookup_time': 1485912491.540892, 'update_count': 34.0}\n",
      "motor command:  131   13   62   78\n",
      "{'update_time': 1485912491.72437, 'heading': 0.1875, 'lookup_time': 1485912491.756681, 'update_count': 36.0}\n"
     ]
    }
   ],
   "source": [
    "control_system.launch_heading_feedback_control_system()"
   ]
  },
  {
   "cell_type": "code",
   "execution_count": null,
   "metadata": {
    "collapsed": true
   },
   "outputs": [],
   "source": []
  },
  {
   "cell_type": "markdown",
   "metadata": {},
   "source": [
    "## Sandbox"
   ]
  },
  {
   "cell_type": "markdown",
   "metadata": {},
   "source": [
    "## Experiments\n",
    "(Continuation from http://localhost:1234/notebooks/sandboxes/ipython_notebooks/imu_multiproc_sampling_and_buffering_test_2.ipynb )"
   ]
  },
  {
   "cell_type": "code",
   "execution_count": 7,
   "metadata": {
    "collapsed": false
   },
   "outputs": [],
   "source": [
    "# - Plotting helper for several experiments\n",
    "def plot_raw_and_processed_data(\n",
    "    raw_data,\n",
    "    filtered_data=None,\n",
    "    y1lim=None,\n",
    "    y2lim=None,\n",
    "    y3lim=None):\n",
    "    \n",
    "    do_filtered_data = False\n",
    "    if filtered_data is not None:\n",
    "        do_filtered_data = True\n",
    "    \n",
    "\n",
    "    fig, axes = plt.subplots(figsize=(8,10),nrows=3, ncols=1)\n",
    "\n",
    "    current_axes = axes[0]\n",
    "    current_axes.plot(raw_data.x, linestyle='-', color='b', linewidth=4, alpha=0.5, label='raw')\n",
    "    if do_filtered_data:\n",
    "        current_axes.plot(filtered_data.x, linestyle='-', color='k', linewidth=1, alpha=1.0, label='filtered')\n",
    "    current_axes.set_title('Linear Acceleration - X', fontsize=10)\n",
    "    current_axes.set_ylabel('Signals', fontsize=10)\n",
    "    if y1lim is not None:\n",
    "        current_axes.set_ylim(y1lim)\n",
    "    current_axes.legend(loc='upper left')\n",
    "    current_axes.grid(which='major',axis='both')\n",
    "\n",
    "    current_axes = axes[1]\n",
    "    current_axes.plot(raw_data.y, linestyle='-', color='b', linewidth=4, alpha=0.5, label='raw')\n",
    "    if do_filtered_data:\n",
    "        current_axes.plot(filtered_data.y, linestyle='-', color='k', linewidth=1, alpha=1.0, label='filtered')\n",
    "    current_axes.set_title('Linear Acceleration - Y', fontsize=10)\n",
    "    current_axes.set_ylabel('Signals', fontsize=10)\n",
    "    if y2lim is not None:\n",
    "        current_axes.set_ylim(y2lim)\n",
    "    current_axes.legend(loc='upper left')\n",
    "    current_axes.grid(which='major',axis='both')\n",
    "\n",
    "    current_axes = axes[2]\n",
    "    current_axes.plot(raw_data.z, linestyle='-', color='b', linewidth=4, alpha=0.5, label='raw')\n",
    "    if do_filtered_data:\n",
    "        current_axes.plot(filtered_data.z, linestyle='-', color='k', linewidth=1, alpha=1.0, label='filtered')\n",
    "    current_axes.set_title('Linear Acceleration - Z', fontsize=10)\n",
    "    current_axes.set_ylabel('Signals', fontsize=10)\n",
    "    if y3lim is not None:\n",
    "        current_axes.set_ylim(y3lim)\n",
    "    current_axes.legend(loc='upper left')\n",
    "    current_axes.grid(which='major',axis='both')\n",
    "    \n",
    "# - Plotting helper for several experiments\n",
    "def plot_euler_data(\n",
    "    raw_data,\n",
    "    filtered_data=None,\n",
    "    y1lim=None,\n",
    "    y2lim=None,\n",
    "    y3lim=None):\n",
    "    \n",
    "    do_filtered_data = False\n",
    "    if filtered_data is not None:\n",
    "        do_filtered_data = True\n",
    "\n",
    "    fig, axes = plt.subplots(figsize=(8,10),nrows=3, ncols=1)\n",
    "\n",
    "    current_axes = axes[0]\n",
    "    current_axes.plot(raw_data.heading, linestyle='-', color='b', linewidth=4, alpha=0.5, label='raw')\n",
    "    if do_filtered_data:\n",
    "        current_axes.plot(filtered_data.heading, linestyle='-', color='k', linewidth=1, alpha=1.0, label='filtered')\n",
    "    current_axes.set_title('Heading (Degrees)', fontsize=10)\n",
    "    current_axes.set_ylabel('Signals', fontsize=10)\n",
    "    if y1lim is not None:\n",
    "        current_axes.set_ylim(y1lim)\n",
    "    current_axes.legend(loc='upper left')\n",
    "    current_axes.grid(which='both',axis='both')\n",
    "\n",
    "    current_axes = axes[1]\n",
    "    current_axes.plot(raw_data.roll, linestyle='-', color='b', linewidth=4, alpha=0.5, label='raw')\n",
    "    if do_filtered_data:\n",
    "        current_axes.plot(filtered_data.roll, linestyle='-', color='k', linewidth=1, alpha=1.0, label='filtered')\n",
    "    current_axes.set_title('Roll (Degrees)', fontsize=10)\n",
    "    current_axes.set_ylabel('Signals', fontsize=10)\n",
    "    if y2lim is not None:\n",
    "        current_axes.set_ylim(y2lim)\n",
    "    current_axes.legend(loc='upper left')\n",
    "    current_axes.grid(which='both',axis='both')\n",
    "\n",
    "    current_axes = axes[2]\n",
    "    current_axes.plot(raw_data.pitch, linestyle='-', color='b', linewidth=4, alpha=0.5, label='raw')\n",
    "    if do_filtered_data:\n",
    "        current_axes.plot(filtered_data.pitch, linestyle='-', color='k', linewidth=1, alpha=1.0, label='filtered')\n",
    "    current_axes.set_title('Pitch (Degrees)', fontsize=10)\n",
    "    current_axes.set_ylabel('Signals', fontsize=10)\n",
    "    if y3lim is not None:\n",
    "        current_axes.set_ylim(y3lim)\n",
    "    current_axes.legend(loc='upper left')\n",
    "    current_axes.grid(which='both',axis='both')"
   ]
  },
  {
   "cell_type": "code",
   "execution_count": 8,
   "metadata": {
    "collapsed": false
   },
   "outputs": [],
   "source": [
    "import pandas as pd\n",
    "def make_prepared_data_df(test_data,frame_ind=0):\n",
    "    prepared_data = pd.DataFrame({\n",
    "        't':test_data['t_data'][frame_ind],\n",
    "        'x':test_data['x_data'][frame_ind],\n",
    "        'y':test_data['y_data'][frame_ind],\n",
    "        'z':test_data['z_data'][frame_ind]},\n",
    "        index=range(len(test_data['t_data'][frame_ind])))\n",
    "    if 'qw_data' in test_data.keys():\n",
    "        prepared_data = prepared_data.join(\n",
    "            pd.DataFrame({\n",
    "                'qw':test_data['qw_data'][frame_ind],\n",
    "                'qx':test_data['qx_data'][frame_ind],\n",
    "                'qy':test_data['qy_data'][frame_ind],\n",
    "                'qz':test_data['qz_data'][frame_ind]},\n",
    "                index=range(len(test_data['t_data'][frame_ind]))),\n",
    "            how='inner')\n",
    "    if 'heading_data' in test_data.keys():\n",
    "        prepared_data = prepared_data.join(\n",
    "            pd.DataFrame({\n",
    "                'heading':test_data['heading_data'][frame_ind],\n",
    "                'roll':test_data['roll_data'][frame_ind],\n",
    "                'pitch':test_data['pitch_data'][frame_ind]},\n",
    "                index=range(len(test_data['t_data'][frame_ind]))),\n",
    "            how='inner')\n",
    "    return prepared_data\n",
    "\n",
    "def log_test_data_to_file(test_data,data_file_base_name):\n",
    "    # Repackage test data for writing to csv via Pandas\n",
    "    prepared_data = make_prepared_data_df(test_data,frame_ind=0)\n",
    "    # - Write data to file\n",
    "    log_time_str = datetime.datetime.now().strftime('%Y%m%d_%H%M%S')\n",
    "    prepared_data.to_csv(\n",
    "        '{base_str}_{time_str}.csv'.format(base_str=data_file_base_name,time_str=log_time_str),\n",
    "        index=False,\n",
    "        encoding='utf-8')"
   ]
  },
  {
   "cell_type": "code",
   "execution_count": 171,
   "metadata": {
    "collapsed": false
   },
   "outputs": [
    {
     "data": {
      "text/plain": [
       "False"
      ]
     },
     "execution_count": 171,
     "metadata": {},
     "output_type": "execute_result"
    }
   ],
   "source": [
    "p.is_alive()"
   ]
  },
  {
   "cell_type": "code",
   "execution_count": 110,
   "metadata": {
    "collapsed": false
   },
   "outputs": [],
   "source": [
    "p.join()"
   ]
  }
 ],
 "metadata": {
  "kernelspec": {
   "display_name": "Python 2",
   "language": "python",
   "name": "python2"
  },
  "language_info": {
   "codemirror_mode": {
    "name": "ipython",
    "version": 2
   },
   "file_extension": ".py",
   "mimetype": "text/x-python",
   "name": "python",
   "nbconvert_exporter": "python",
   "pygments_lexer": "ipython2",
   "version": "2.7.9"
  }
 },
 "nbformat": 4,
 "nbformat_minor": 1
}
