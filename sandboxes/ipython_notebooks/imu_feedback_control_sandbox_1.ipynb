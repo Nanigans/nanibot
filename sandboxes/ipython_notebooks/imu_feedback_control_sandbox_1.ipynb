{
 "cells": [
  {
   "cell_type": "markdown",
   "metadata": {},
   "source": [
    "## Notes\n",
    "\n",
    "### TODO\n",
    "- Enhance feedback controller to handle sensor wrap more robustly\n",
    " - Potentially force an initial sensor offset of 180 (to maximize operating space before wrap)\n",
    " - Probably need to enforce a max turn rate to avoid ambiguity between wakeups\n",
    "- Potentially switch controller from mixed mode to differential mode\n",
    "- Add mutexes and condition variables in several places to increase robustness\n",
    "\n",
    "### Overview\n",
    "\n",
    "\n",
    "### READ THIS BEFORE RUNNING\n",
    "- Some of the following experiments depend on the PIGPIO daemon.  To activate the daemon process, execute the following command on the host machine for this notebook: \"sudo pigpiod\" (Note: This should be done before running the experiment cells that depend on it.)\n",
    "\n",
    "### How to run this notebook\n",
    "##### Launch jupyter notebook server on RPi\n",
    "- From a local terminal session, log into the RPi on the rover\n",
    "- run \"source ~/.profile\" to make sure virtualenvwrapper environment variables are set\n",
    "- run \"workon rover1\" to launch the correct virtual environment\n",
    "- cd to the repo root directory (nominally ~/nanibot)\n",
    "- run \"jupyter notebook --no-browser --port=[port #]\" to launch the notebook server\n",
    "\n",
    "##### Setup ssh tunneling and port forwarding on local machine\n",
    "- run \"ssh -N -f -L localhost:[port #]:localhost:[port #] pi@[RPi host IP]\"\n",
    "- From local browser, go to localhost:[port #]\n",
    "\n",
    "### Implementation Details\n",
    "\n",
    "### Test Design\n",
    " \n",
    "### Conclusions\n",
    "\n",
    "### Next Steps\n"
   ]
  },
  {
   "cell_type": "markdown",
   "metadata": {},
   "source": [
    "## Component Code"
   ]
  },
  {
   "cell_type": "code",
   "execution_count": 106,
   "metadata": {
    "collapsed": true
   },
   "outputs": [],
   "source": [
    "%matplotlib inline\n",
    "from __future__ import division\n",
    "import time\n",
    "import sys\n",
    "from scipy import signal\n",
    "import matplotlib.pyplot as plt\n",
    "import numpy as np\n",
    "import pandas as pd\n",
    "import json\n",
    "from Adafruit_BNO055 import BNO055\n",
    "import serial\n",
    "from serial.serialutil import SerialException\n",
    "import multiprocessing as multiproc"
   ]
  },
  {
   "cell_type": "code",
   "execution_count": 2,
   "metadata": {
    "collapsed": false
   },
   "outputs": [],
   "source": [
    "# -- Define some configuration constants for the imu sensor --\n",
    "CALIBRATION_FILE='/home/pi/nanibot/rover1/peripherals/bno055_imu/calibration/calibration.json'\n",
    "CALIBRATION_DATA=[1, 0, 2, 0, 244, 255, 223, 255, 50, 1, 210, 255, 253, 255, 255, 255, 2, 0, 232, 3, 181, 2]\n",
    "\n",
    "BNO_AXIS_REMAP = {\n",
    "        'x': BNO055.AXIS_REMAP_Y,\n",
    "        'y': BNO055.AXIS_REMAP_X,\n",
    "        'z': BNO055.AXIS_REMAP_Z,\n",
    "        'x_sign': BNO055.AXIS_REMAP_NEGATIVE,\n",
    "        'y_sign': BNO055.AXIS_REMAP_POSITIVE,\n",
    "        'z_sign': BNO055.AXIS_REMAP_POSITIVE }"
   ]
  },
  {
   "cell_type": "code",
   "execution_count": 3,
   "metadata": {
    "collapsed": false
   },
   "outputs": [
    {
     "data": {
      "text/plain": [
       "['/home/pi/nanibot/rover1',\n",
       " '',\n",
       " '/usr/local/lib/python2.7/dist-packages/Adafruit_BNO055-1.0.1-py2.7.egg',\n",
       " '/usr/local/lib/python2.7/dist-packages/Adafruit_GPIO-1.0.0-py2.7.egg',\n",
       " '/usr/local/lib/python2.7/dist-packages/Adafruit_PureIO-0.2.0-py2.7.egg',\n",
       " '/usr/lib/python2.7/dist-packages',\n",
       " '/usr/lib/python2.7',\n",
       " '/usr/lib/python2.7/plat-arm-linux-gnueabihf',\n",
       " '/usr/lib/python2.7/lib-tk',\n",
       " '/usr/lib/python2.7/lib-old',\n",
       " '/usr/lib/python2.7/lib-dynload',\n",
       " '/usr/local/lib/python2.7/dist-packages',\n",
       " '/usr/lib/python2.7/dist-packages/gtk-2.0',\n",
       " '/usr/lib/pymodules/python2.7',\n",
       " '/usr/local/lib/python2.7/dist-packages/IPython/extensions',\n",
       " '/home/pi/.ipython']"
      ]
     },
     "execution_count": 3,
     "metadata": {},
     "output_type": "execute_result"
    }
   ],
   "source": [
    "# - Add the main rover source tree to sys.path so modules are accessible - \n",
    "rover1_path = '/home/pi/nanibot/rover1'\n",
    "if rover1_path not in sys.path:\n",
    "    sys.path.insert(0,rover1_path)\n",
    "sys.path"
   ]
  },
  {
   "cell_type": "code",
   "execution_count": 4,
   "metadata": {
    "collapsed": false
   },
   "outputs": [],
   "source": [
    "import peripherals.bno055_imu.inertial_sensor_bno055 as imu\n",
    "import peripherals.sabertooth.sabertooth_adapter as sabertooth_adapter\n",
    "import components.driving.motor_control as motor_control"
   ]
  },
  {
   "cell_type": "code",
   "execution_count": 58,
   "metadata": {
    "collapsed": false
   },
   "outputs": [
    {
     "data": {
      "text/plain": [
       "<module 'peripherals.bno055_imu.inertial_sensor_bno055' from '/home/pi/nanibot/rover1/peripherals/bno055_imu/inertial_sensor_bno055.pyc'>"
      ]
     },
     "execution_count": 58,
     "metadata": {},
     "output_type": "execute_result"
    }
   ],
   "source": [
    "reload(imu)"
   ]
  },
  {
   "cell_type": "code",
   "execution_count": 23,
   "metadata": {
    "collapsed": true
   },
   "outputs": [],
   "source": [
    "class HeadingEstimator(object):\n",
    "    \n",
    "    def __init__(self,sensor):\n",
    "        \n",
    "        self._sensor = sensor\n",
    "        self._last_validity_time = time.time()\n",
    "        self._last_heading = 0\n",
    "        \n",
    "    @property\n",
    "    def last_heading(self):\n",
    "        return self._last_heading\n",
    "    \n",
    "    @property\n",
    "    def last_validity_time(self):\n",
    "        return self._last_validity_time\n",
    "    \n",
    "    def _updateStateEstimates(self):\n",
    "        \n",
    "        meas = self._sensor.get_measurement()\n",
    "        # DEBUG\n",
    "        print meas\n",
    "        # - Update state estimates\n",
    "        self._last_validity_time = meas['update_time']\n",
    "        self._last_heading = meas['heading']\n",
    "        \n",
    "    def getCurrentState(self):\n",
    "        self._updateStateEstimates()\n",
    "\n",
    "        return {\n",
    "            'heading':self.last_heading,\n",
    "            'validity_time':self.last_validity_time}"
   ]
  },
  {
   "cell_type": "code",
   "execution_count": 118,
   "metadata": {
    "collapsed": true
   },
   "outputs": [],
   "source": [
    "class HeadingFeedbackController(object):\n",
    "    \n",
    "    _sensor_timeout_sec = 5\n",
    "    \n",
    "    def __init__(\n",
    "        self,\n",
    "        sensor,\n",
    "        motor_controller,\n",
    "        update_interval_sec,\n",
    "        proportional_gain,\n",
    "        integral_gain,\n",
    "        measurement_offset=0,\n",
    "        initial_state=0,\n",
    "        nominal_forward_power=0,\n",
    "        verbose=False):\n",
    "        \n",
    "        self._verbose = verbose\n",
    "        self._break_feedback_iterator = False\n",
    "        \n",
    "        # Set the interval on which the feedback controller will try to make updates\n",
    "        self._update_interval_sec = update_interval_sec\n",
    "        # Set heading sensor\n",
    "        self._sensor = sensor\n",
    "        # Set motor controller and ensure that we're initially not driving\n",
    "        self._motor_controller = motor_controller\n",
    "        self._nominal_forward_power = nominal_forward_power\n",
    "        self._motor_controller.stop()\n",
    "        self._driving = False\n",
    "        \n",
    "        # Set the feedback gains\n",
    "        self._P_gain = proportional_gain\n",
    "        self._I_gain = integral_gain\n",
    "        \n",
    "        # Set the measurement calibration offset\n",
    "        self._measurement_offset = measurement_offset\n",
    "        \n",
    "        # Initialize last sensor time as current time\n",
    "        self._last_sensor_update_time = time.time()\n",
    "        # Initialize last controller update time as current time\n",
    "        self._last_controller_update_time = time.time()\n",
    "        # Keep track of initial invocation time, for logging and debugging\n",
    "        self._start_time = time.time()\n",
    "        \n",
    "        self._set_point = initial_state\n",
    "        self._last_heading_estimate = initial_state\n",
    "        self._last_plant_command = initial_state\n",
    "        self._cumulative_error = 0\n",
    "        \n",
    "        \n",
    "    @property\n",
    "    def set_point(self):\n",
    "        return self._set_point\n",
    "    \n",
    "    def set_break_condition(self):\n",
    "        \"\"\"TODO: make this more robust using mutex\"\"\"\n",
    "        self._break_feedback_iterator = True\n",
    "        \n",
    "    def initiate_iterative_feedback(self):\n",
    "        self._feedback_iteration_proc = multiproc.Process(\n",
    "            target=self._iteratively_update_feedback_controller,\n",
    "            args=())\n",
    "        self._feedback_iteration_proc.daemon = True  # Don't let the BNO reading thread block exiting.\n",
    "        self._feedback_iteration_proc.start()\n",
    "        \n",
    "    def join_iterative_feedback_process(self):\n",
    "        self._feedback_iteration_proc.join(10)\n",
    "    \n",
    "    def update_set_point(self,set_point):\n",
    "        \"\"\"TODO: add safety limits\"\"\"\n",
    "        self._set_point = set_point\n",
    "        \n",
    "    def update_plant_command(self):\n",
    "        \"\"\"\n",
    "        Attempt to update the motor controller command, send stop command if something goes wrong\n",
    "        \n",
    "        \"\"\"\n",
    "        try:\n",
    "            # If we're not yet driving, send nominal forward command to motor controller\n",
    "            if not self._driving:\n",
    "                # Set nominal forward power on motor controller\n",
    "                self._motor_controller.goForward(power_percent=self._nominal_forward_power)\n",
    "                self._driving = True\n",
    "            \n",
    "            new_plant_command = self._get_new_plant_command()\n",
    "            old_plant_command = self._motor_controller.currentLeftRightSetting\n",
    "            heading_change = new_plant_command - old_plant_command\n",
    "            self._motor_controller.adjustLeftRightSetting(heading_change)\n",
    "        except:\n",
    "            self._motor_controller.stop()\n",
    "            raise\n",
    "        \n",
    "    def _get_new_plant_command(self):\n",
    "        # Compute new motor command from proportional feedback\n",
    "        sensor_data = self._sensor.getCurrentState()\n",
    "        state_validity_time = sensor_data['validity_time']\n",
    "        \n",
    "        # If sensor data is too old, raise exception that should shut down the motors\n",
    "        current_time = time.time()\n",
    "        if current_time - state_validity_time >= self._sensor_timeout_sec:\n",
    "            error_str_details = \"{0:.1f} (current) - {1:.1f} (validity) = {2:.1f} (diff)\".format(\n",
    "                current_time,\n",
    "                state_validity_time,\n",
    "                current_time-state_validity_time)\n",
    "            raise ValueError('Sensor data has become too stale.\\n\\t'+error_str_details)\n",
    "            \n",
    "        # Make sure there's a valid set point and heading measurement \n",
    "        # - Should raise ValueError otherwise\n",
    "        gain = float(self._P_gain)\n",
    "        set_point = float(self.set_point)\n",
    "        calibrated_state_estimate = float(sensor_data['heading']) - float(self._measurement_offset)\n",
    "        \n",
    "        # --- Proportional Error Feedback ---\n",
    "        new_plant_command = gain * (set_point - calibrated_state_estimate)\n",
    "        if self._verbose:\n",
    "            print '\\n\\ntime: {}\\nset point: {}\\ncalibrated sensor heading: {}, \\nnew command: {}'.format(\n",
    "                current_time - self._start_time,\n",
    "                set_point,\n",
    "                calibrated_state_estimate,\n",
    "                new_plant_command)\n",
    "            \n",
    "        return new_plant_command\n",
    "    \n",
    "    def _iteratively_update_feedback_controller(self):\n",
    "        while not self._break_feedback_iterator:\n",
    "            self.update_plant_command()\n",
    "            time.sleep(self._update_interval_sec)\n",
    "        raise ValueError('Stopped updating feedback controller because of stop condition.')"
   ]
  },
  {
   "cell_type": "markdown",
   "metadata": {},
   "source": [
    "### Feedback System Component Construction"
   ]
  },
  {
   "cell_type": "code",
   "execution_count": 136,
   "metadata": {
    "collapsed": false
   },
   "outputs": [
    {
     "name": "stdout",
     "output_type": "stream",
     "text": [
      "motor command:  131   2   10   15\n"
     ]
    }
   ],
   "source": [
    "sensor_update_frequency_hz = 5.0\n",
    "\n",
    "motorControllerAdapter = sabertooth_adapter.SabertoothPacketizedAdapterGPIO()\n",
    "motor_controller = motor_control.MotorController(motorControllerAdapter)\n",
    "heading_sensor = imu.MultiprocessHeadingSensorBNO055(\n",
    "    sensor_update_frequency_hz=sensor_update_frequency_hz)"
   ]
  },
  {
   "cell_type": "code",
   "execution_count": 145,
   "metadata": {
    "collapsed": true
   },
   "outputs": [],
   "source": [
    "heading_estimator = HeadingEstimator(heading_sensor)"
   ]
  },
  {
   "cell_type": "markdown",
   "metadata": {},
   "source": [
    "### Heading Sensor Commands"
   ]
  },
  {
   "cell_type": "code",
   "execution_count": 155,
   "metadata": {
    "collapsed": false
   },
   "outputs": [
    {
     "data": {
      "text/plain": [
       "{'heading': 49.5,\n",
       " 'lookup_time': 1485747008.749445,\n",
       " 'update_count': 1279.0,\n",
       " 'update_time': 1485747008.57531}"
      ]
     },
     "execution_count": 155,
     "metadata": {},
     "output_type": "execute_result"
    }
   ],
   "source": [
    "heading_sensor.get_measurement()"
   ]
  },
  {
   "cell_type": "code",
   "execution_count": 153,
   "metadata": {
    "collapsed": true
   },
   "outputs": [],
   "source": [
    "heading_sensor.shutdown()"
   ]
  },
  {
   "cell_type": "code",
   "execution_count": 109,
   "metadata": {
    "collapsed": false
   },
   "outputs": [
    {
     "name": "stdout",
     "output_type": "stream",
     "text": [
      "{'update_time': 1485746305.249094, 'heading': 47.75, 'lookup_time': 1485746305.353655, 'update_count': 15290.0}\n"
     ]
    },
    {
     "data": {
      "text/plain": [
       "{'heading': 47.75, 'validity_time': 1485746305.249094}"
      ]
     },
     "execution_count": 109,
     "metadata": {},
     "output_type": "execute_result"
    }
   ],
   "source": [
    "heading_estimator.getCurrentState()"
   ]
  },
  {
   "cell_type": "markdown",
   "metadata": {},
   "source": [
    "### Motor Controller Commands "
   ]
  },
  {
   "cell_type": "code",
   "execution_count": 146,
   "metadata": {
    "collapsed": false
   },
   "outputs": [
    {
     "name": "stdout",
     "output_type": "stream",
     "text": [
      "motor command:  131   13   64   80\n"
     ]
    }
   ],
   "source": [
    "motor_controller.goStraight()"
   ]
  },
  {
   "cell_type": "code",
   "execution_count": 148,
   "metadata": {
    "collapsed": false
   },
   "outputs": [
    {
     "name": "stdout",
     "output_type": "stream",
     "text": [
      "motor command:  131   12   83   98\n"
     ]
    }
   ],
   "source": [
    "motor_controller.adjustFwdBwdSetting(power_change=-10)"
   ]
  },
  {
   "cell_type": "code",
   "execution_count": 160,
   "metadata": {
    "collapsed": false
   },
   "outputs": [
    {
     "name": "stdout",
     "output_type": "stream",
     "text": [
      "motor command:  131   0   0   3\n",
      "motor command:  131   4   0   7\n"
     ]
    }
   ],
   "source": [
    "motor_controller.stop()"
   ]
  },
  {
   "cell_type": "markdown",
   "metadata": {},
   "source": [
    "### Feedback Control System Commands "
   ]
  },
  {
   "cell_type": "code",
   "execution_count": 156,
   "metadata": {
    "collapsed": false
   },
   "outputs": [
    {
     "name": "stdout",
     "output_type": "stream",
     "text": [
      "motor command:  131   0   0   3\n",
      "motor command:  131   4   0   7\n"
     ]
    }
   ],
   "source": [
    "feedback_controller_update_interval_sec = 5.0\n",
    "feedback_controller = HeadingFeedbackController(\n",
    "        heading_estimator, # sensor\n",
    "        motor_controller, # motor_controller\n",
    "        feedback_controller_update_interval_sec, # update_interval_sec\n",
    "        0.2, #proportional_gain\n",
    "        0.0, # integral_gain\n",
    "        measurement_offset=45,\n",
    "        initial_state=45,\n",
    "        nominal_forward_power=5,\n",
    "        verbose=True)"
   ]
  },
  {
   "cell_type": "code",
   "execution_count": 96,
   "metadata": {
    "collapsed": false
   },
   "outputs": [
    {
     "name": "stdout",
     "output_type": "stream",
     "text": [
      "{'update_time': 1485744407.865507, 'heading': 74.875, 'lookup_time': 1485744407.900485, 'update_count': 6026.0}\n",
      "\n",
      "\n",
      "time: 12.5350198746\n",
      "set point: 45.0\n",
      "calibrated sensor heading: 29.875, \n",
      "new command: 3.025\n",
      "motor command:  131   13   66   82\n"
     ]
    }
   ],
   "source": [
    "# Manually force controller command calculation and plant actuation\n",
    "feedback_controller.update_plant_command()"
   ]
  },
  {
   "cell_type": "code",
   "execution_count": 157,
   "metadata": {
    "collapsed": true
   },
   "outputs": [],
   "source": [
    "feedback_controller.update_set_point(45)"
   ]
  },
  {
   "cell_type": "code",
   "execution_count": 161,
   "metadata": {
    "collapsed": false
   },
   "outputs": [
    {
     "name": "stdout",
     "output_type": "stream",
     "text": [
      "motor command:  131   0   0   3\n",
      "motor command:  131   4   0   7\n"
     ]
    }
   ],
   "source": [
    "feedback_controller.set_break_condition()\n",
    "motor_controller.stop()"
   ]
  },
  {
   "cell_type": "code",
   "execution_count": 158,
   "metadata": {
    "collapsed": false,
    "scrolled": true
   },
   "outputs": [
    {
     "name": "stdout",
     "output_type": "stream",
     "text": [
      "motor command:  131   12   68   83\n",
      "{'update_time': 1485747035.833494, 'heading': 49.5, 'lookup_time': 1485747035.8604, 'update_count': 1412.0}\n",
      "\n",
      "\n",
      "time: 17.1510939598\n",
      "set point: 45.0\n",
      "calibrated sensor heading: 4.5, \n",
      "new command: 8.1\n",
      "motor command:  131   13   70   86\n",
      "{'update_time': 1485747040.95586, 'heading': 49.5, 'lookup_time': 1485747041.084472, 'update_count': 1437.0}\n",
      "\n",
      "\n",
      "time: 22.3787419796\n",
      "set point: 45.0\n",
      "calibrated sensor heading: 4.5, \n",
      "new command: 8.1\n",
      "motor command:  131   13   70   86\n",
      "{'update_time': 1485747046.286228, 'heading': 49.4375, 'lookup_time': 1485747046.334471, 'update_count': 1463.0}\n",
      "\n",
      "\n",
      "time: 27.6198980808\n",
      "set point: 45.0\n",
      "calibrated sensor heading: 4.4375, \n",
      "new command: 8.1125\n",
      "motor command:  131   13   70   86\n",
      "{'update_time': 1485747051.399669, 'heading': 46.0625, 'lookup_time': 1485747051.543029, 'update_count': 1488.0}\n",
      "\n",
      "\n",
      "time: 32.8300580978\n",
      "set point: 45.0\n",
      "calibrated sensor heading: 1.0625, \n",
      "new command: 8.7875\n",
      "motor command:  131   13   70   86\n",
      "{'update_time': 1485747056.724991, 'heading': 46.0625, 'lookup_time': 1485747056.764023, 'update_count': 1514.0}\n",
      "\n",
      "\n",
      "time: 38.0513021946\n",
      "set point: 45.0\n",
      "calibrated sensor heading: 1.0625, \n",
      "new command: 8.7875\n",
      "motor command:  131   13   70   86\n",
      "{'update_time': 1485747061.831886, 'heading': 46.0625, 'lookup_time': 1485747061.978946, 'update_count': 1539.0}\n",
      "\n",
      "\n",
      "time: 43.2678470612\n",
      "set point: 45.0\n",
      "calibrated sensor heading: 1.0625, \n",
      "new command: 8.7875\n",
      "motor command:  131   13   70   86\n",
      "{'update_time': 1485747067.156561, 'heading': 44.5625, 'lookup_time': 1485747067.189294, 'update_count': 1565.0}\n",
      "\n",
      "\n",
      "time: 48.478249073\n",
      "set point: 45.0\n",
      "calibrated sensor heading: -0.4375, \n",
      "new command: 9.0875\n",
      "motor command:  131   13   70   86\n",
      "{'update_time': 1485747072.275918, 'heading': 44.5625, 'lookup_time': 1485747072.398668, 'update_count': 1590.0}\n",
      "\n",
      "\n",
      "time: 53.6869189739\n",
      "set point: 45.0\n",
      "calibrated sensor heading: -0.4375, \n",
      "new command: 9.0875\n",
      "motor command:  131   13   70   86\n",
      "{'update_time': 1485747077.60593, 'heading': 20.375, 'lookup_time': 1485747077.609461, 'update_count': 1616.0}\n",
      "\n",
      "\n",
      "time: 58.8957061768\n",
      "set point: 45.0\n",
      "calibrated sensor heading: -24.625, \n",
      "new command: 13.925\n",
      "motor command:  131   13   73   89\n",
      "{'update_time': 1485747082.721887, 'heading': 20.375, 'lookup_time': 1485747082.828891, 'update_count': 1641.0}\n",
      "\n",
      "\n",
      "time: 64.1179711819\n",
      "set point: 45.0\n",
      "calibrated sensor heading: -24.625, \n",
      "new command: 13.925\n",
      "motor command:  131   13   73   89\n",
      "{'update_time': 1485747087.846543, 'heading': 28.4375, 'lookup_time': 1485747088.040218, 'update_count': 1666.0}\n",
      "\n",
      "\n",
      "time: 69.3299400806\n",
      "set point: 45.0\n",
      "calibrated sensor heading: -16.5625, \n",
      "new command: 12.3125\n",
      "motor command:  131   13   72   88\n",
      "{'update_time': 1485747093.175211, 'heading': 28.4375, 'lookup_time': 1485747093.258233, 'update_count': 1692.0}\n",
      "\n",
      "\n",
      "time: 74.5500321388\n",
      "set point: 45.0\n",
      "calibrated sensor heading: -16.5625, \n",
      "new command: 12.3125\n",
      "motor command:  131   13   72   88\n",
      "{'update_time': 1485747098.293356, 'heading': 30.625, 'lookup_time': 1485747098.464879, 'update_count': 1717.0}\n",
      "\n",
      "\n",
      "time: 79.7551620007\n",
      "set point: 45.0\n",
      "calibrated sensor heading: -14.375, \n",
      "new command: 11.875\n",
      "motor command:  131   13   72   88\n",
      "{'update_time': 1485747103.618258, 'heading': 53.5, 'lookup_time': 1485747103.673675, 'update_count': 1743.0}\n",
      "\n",
      "\n",
      "time: 84.9590730667\n",
      "set point: 45.0\n",
      "calibrated sensor heading: 8.5, \n",
      "new command: 7.3\n",
      "motor command:  131   13   69   85\n",
      "{'update_time': 1485747108.736232, 'heading': 58.375, 'lookup_time': 1485747108.882527, 'update_count': 1768.0}\n",
      "\n",
      "\n",
      "time: 90.167773962\n",
      "set point: 45.0\n",
      "calibrated sensor heading: 13.375, \n",
      "new command: 6.325\n",
      "motor command:  131   13   68   84\n",
      "{'update_time': 1485747114.061209, 'heading': 58.375, 'lookup_time': 1485747114.091801, 'update_count': 1794.0}\n",
      "\n",
      "\n",
      "time: 95.3842000961\n",
      "set point: 45.0\n",
      "calibrated sensor heading: 13.375, \n",
      "new command: 6.325\n",
      "motor command:  131   13   68   84\n",
      "{'update_time': 1485747119.175925, 'heading': 58.375, 'lookup_time': 1485747119.303757, 'update_count': 1819.0}\n",
      "\n",
      "\n",
      "time: 100.588541985\n",
      "set point: 45.0\n",
      "calibrated sensor heading: 13.375, \n",
      "new command: 6.325\n",
      "motor command:  131   13   68   84\n",
      "{'update_time': 1485747124.498837, 'heading': 58.375, 'lookup_time': 1485747124.514871, 'update_count': 1845.0}\n",
      "\n",
      "\n",
      "time: 105.798918009\n",
      "set point: 45.0\n",
      "calibrated sensor heading: 13.375, \n",
      "new command: 6.325\n",
      "motor command:  131   13   68   84\n",
      "{'update_time': 1485747129.625982, 'heading': 58.375, 'lookup_time': 1485747129.736068, 'update_count': 1870.0}\n",
      "\n",
      "\n",
      "time: 111.020990133\n",
      "set point: 45.0\n",
      "calibrated sensor heading: 13.375, \n",
      "new command: 6.325\n",
      "motor command:  131   13   68   84\n",
      "{'update_time': 1485747134.942568, 'heading': 58.375, 'lookup_time': 1485747134.948305, 'update_count': 1896.0}\n",
      "\n",
      "\n",
      "time: 116.24052906\n",
      "set point: 45.0\n",
      "calibrated sensor heading: 13.375, \n",
      "new command: 6.325\n",
      "motor command:  131   13   68   84\n"
     ]
    }
   ],
   "source": [
    "feedback_controller.initiate_iterative_feedback()"
   ]
  },
  {
   "cell_type": "code",
   "execution_count": null,
   "metadata": {
    "collapsed": true
   },
   "outputs": [],
   "source": [
    "feedback_controller.join_iterative_feedback_process()"
   ]
  },
  {
   "cell_type": "markdown",
   "metadata": {},
   "source": [
    "## Sandbox"
   ]
  },
  {
   "cell_type": "markdown",
   "metadata": {},
   "source": [
    "## Experiments\n",
    "(Continuation from http://localhost:1234/notebooks/sandboxes/ipython_notebooks/imu_multiproc_sampling_and_buffering_test_2.ipynb )"
   ]
  },
  {
   "cell_type": "code",
   "execution_count": 7,
   "metadata": {
    "collapsed": false
   },
   "outputs": [],
   "source": [
    "# - Plotting helper for several experiments\n",
    "def plot_raw_and_processed_data(\n",
    "    raw_data,\n",
    "    filtered_data=None,\n",
    "    y1lim=None,\n",
    "    y2lim=None,\n",
    "    y3lim=None):\n",
    "    \n",
    "    do_filtered_data = False\n",
    "    if filtered_data is not None:\n",
    "        do_filtered_data = True\n",
    "    \n",
    "\n",
    "    fig, axes = plt.subplots(figsize=(8,10),nrows=3, ncols=1)\n",
    "\n",
    "    current_axes = axes[0]\n",
    "    current_axes.plot(raw_data.x, linestyle='-', color='b', linewidth=4, alpha=0.5, label='raw')\n",
    "    if do_filtered_data:\n",
    "        current_axes.plot(filtered_data.x, linestyle='-', color='k', linewidth=1, alpha=1.0, label='filtered')\n",
    "    current_axes.set_title('Linear Acceleration - X', fontsize=10)\n",
    "    current_axes.set_ylabel('Signals', fontsize=10)\n",
    "    if y1lim is not None:\n",
    "        current_axes.set_ylim(y1lim)\n",
    "    current_axes.legend(loc='upper left')\n",
    "    current_axes.grid(which='major',axis='both')\n",
    "\n",
    "    current_axes = axes[1]\n",
    "    current_axes.plot(raw_data.y, linestyle='-', color='b', linewidth=4, alpha=0.5, label='raw')\n",
    "    if do_filtered_data:\n",
    "        current_axes.plot(filtered_data.y, linestyle='-', color='k', linewidth=1, alpha=1.0, label='filtered')\n",
    "    current_axes.set_title('Linear Acceleration - Y', fontsize=10)\n",
    "    current_axes.set_ylabel('Signals', fontsize=10)\n",
    "    if y2lim is not None:\n",
    "        current_axes.set_ylim(y2lim)\n",
    "    current_axes.legend(loc='upper left')\n",
    "    current_axes.grid(which='major',axis='both')\n",
    "\n",
    "    current_axes = axes[2]\n",
    "    current_axes.plot(raw_data.z, linestyle='-', color='b', linewidth=4, alpha=0.5, label='raw')\n",
    "    if do_filtered_data:\n",
    "        current_axes.plot(filtered_data.z, linestyle='-', color='k', linewidth=1, alpha=1.0, label='filtered')\n",
    "    current_axes.set_title('Linear Acceleration - Z', fontsize=10)\n",
    "    current_axes.set_ylabel('Signals', fontsize=10)\n",
    "    if y3lim is not None:\n",
    "        current_axes.set_ylim(y3lim)\n",
    "    current_axes.legend(loc='upper left')\n",
    "    current_axes.grid(which='major',axis='both')\n",
    "    \n",
    "# - Plotting helper for several experiments\n",
    "def plot_euler_data(\n",
    "    raw_data,\n",
    "    filtered_data=None,\n",
    "    y1lim=None,\n",
    "    y2lim=None,\n",
    "    y3lim=None):\n",
    "    \n",
    "    do_filtered_data = False\n",
    "    if filtered_data is not None:\n",
    "        do_filtered_data = True\n",
    "\n",
    "    fig, axes = plt.subplots(figsize=(8,10),nrows=3, ncols=1)\n",
    "\n",
    "    current_axes = axes[0]\n",
    "    current_axes.plot(raw_data.heading, linestyle='-', color='b', linewidth=4, alpha=0.5, label='raw')\n",
    "    if do_filtered_data:\n",
    "        current_axes.plot(filtered_data.heading, linestyle='-', color='k', linewidth=1, alpha=1.0, label='filtered')\n",
    "    current_axes.set_title('Heading (Degrees)', fontsize=10)\n",
    "    current_axes.set_ylabel('Signals', fontsize=10)\n",
    "    if y1lim is not None:\n",
    "        current_axes.set_ylim(y1lim)\n",
    "    current_axes.legend(loc='upper left')\n",
    "    current_axes.grid(which='both',axis='both')\n",
    "\n",
    "    current_axes = axes[1]\n",
    "    current_axes.plot(raw_data.roll, linestyle='-', color='b', linewidth=4, alpha=0.5, label='raw')\n",
    "    if do_filtered_data:\n",
    "        current_axes.plot(filtered_data.roll, linestyle='-', color='k', linewidth=1, alpha=1.0, label='filtered')\n",
    "    current_axes.set_title('Roll (Degrees)', fontsize=10)\n",
    "    current_axes.set_ylabel('Signals', fontsize=10)\n",
    "    if y2lim is not None:\n",
    "        current_axes.set_ylim(y2lim)\n",
    "    current_axes.legend(loc='upper left')\n",
    "    current_axes.grid(which='both',axis='both')\n",
    "\n",
    "    current_axes = axes[2]\n",
    "    current_axes.plot(raw_data.pitch, linestyle='-', color='b', linewidth=4, alpha=0.5, label='raw')\n",
    "    if do_filtered_data:\n",
    "        current_axes.plot(filtered_data.pitch, linestyle='-', color='k', linewidth=1, alpha=1.0, label='filtered')\n",
    "    current_axes.set_title('Pitch (Degrees)', fontsize=10)\n",
    "    current_axes.set_ylabel('Signals', fontsize=10)\n",
    "    if y3lim is not None:\n",
    "        current_axes.set_ylim(y3lim)\n",
    "    current_axes.legend(loc='upper left')\n",
    "    current_axes.grid(which='both',axis='both')"
   ]
  },
  {
   "cell_type": "code",
   "execution_count": 8,
   "metadata": {
    "collapsed": false
   },
   "outputs": [],
   "source": [
    "import pandas as pd\n",
    "def make_prepared_data_df(test_data,frame_ind=0):\n",
    "    prepared_data = pd.DataFrame({\n",
    "        't':test_data['t_data'][frame_ind],\n",
    "        'x':test_data['x_data'][frame_ind],\n",
    "        'y':test_data['y_data'][frame_ind],\n",
    "        'z':test_data['z_data'][frame_ind]},\n",
    "        index=range(len(test_data['t_data'][frame_ind])))\n",
    "    if 'qw_data' in test_data.keys():\n",
    "        prepared_data = prepared_data.join(\n",
    "            pd.DataFrame({\n",
    "                'qw':test_data['qw_data'][frame_ind],\n",
    "                'qx':test_data['qx_data'][frame_ind],\n",
    "                'qy':test_data['qy_data'][frame_ind],\n",
    "                'qz':test_data['qz_data'][frame_ind]},\n",
    "                index=range(len(test_data['t_data'][frame_ind]))),\n",
    "            how='inner')\n",
    "    if 'heading_data' in test_data.keys():\n",
    "        prepared_data = prepared_data.join(\n",
    "            pd.DataFrame({\n",
    "                'heading':test_data['heading_data'][frame_ind],\n",
    "                'roll':test_data['roll_data'][frame_ind],\n",
    "                'pitch':test_data['pitch_data'][frame_ind]},\n",
    "                index=range(len(test_data['t_data'][frame_ind]))),\n",
    "            how='inner')\n",
    "    return prepared_data\n",
    "\n",
    "def log_test_data_to_file(test_data,data_file_base_name):\n",
    "    # Repackage test data for writing to csv via Pandas\n",
    "    prepared_data = make_prepared_data_df(test_data,frame_ind=0)\n",
    "    # - Write data to file\n",
    "    log_time_str = datetime.datetime.now().strftime('%Y%m%d_%H%M%S')\n",
    "    prepared_data.to_csv(\n",
    "        '{base_str}_{time_str}.csv'.format(base_str=data_file_base_name,time_str=log_time_str),\n",
    "        index=False,\n",
    "        encoding='utf-8')"
   ]
  },
  {
   "cell_type": "code",
   "execution_count": 171,
   "metadata": {
    "collapsed": false
   },
   "outputs": [
    {
     "data": {
      "text/plain": [
       "False"
      ]
     },
     "execution_count": 171,
     "metadata": {},
     "output_type": "execute_result"
    }
   ],
   "source": [
    "p.is_alive()"
   ]
  },
  {
   "cell_type": "code",
   "execution_count": 110,
   "metadata": {
    "collapsed": false
   },
   "outputs": [],
   "source": [
    "p.join()"
   ]
  }
 ],
 "metadata": {
  "kernelspec": {
   "display_name": "Python 2",
   "language": "python",
   "name": "python2"
  },
  "language_info": {
   "codemirror_mode": {
    "name": "ipython",
    "version": 2
   },
   "file_extension": ".py",
   "mimetype": "text/x-python",
   "name": "python",
   "nbconvert_exporter": "python",
   "pygments_lexer": "ipython2",
   "version": "2.7.9"
  }
 },
 "nbformat": 4,
 "nbformat_minor": 1
}
