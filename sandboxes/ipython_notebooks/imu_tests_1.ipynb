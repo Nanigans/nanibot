{
 "cells": [
  {
   "cell_type": "markdown",
   "metadata": {},
   "source": [
    "### TODO\n",
    "- Try adjusting baudrate to see if wait times (select.select) are affected"
   ]
  },
  {
   "cell_type": "code",
   "execution_count": 52,
   "metadata": {
    "collapsed": false
   },
   "outputs": [
    {
     "name": "stdout",
     "output_type": "stream",
     "text": [
      "updates per seconds:  4266.66666667\n",
      "update interval:  0.000234375\n"
     ]
    }
   ],
   "source": [
    "#baudrate = 400000.0\n",
    "baudrate = 115200.0\n",
    "bits_per_word = (8+0+1)\n",
    "words_per_update = 3\n",
    "updates_per_second = baudrate / (words_per_update * bits_per_word)\n",
    "print 'updates per seconds: ', updates_per_second\n",
    "print 'update interval: ', 1.0/updates_per_second"
   ]
  },
  {
   "cell_type": "code",
   "execution_count": 83,
   "metadata": {
    "collapsed": false
   },
   "outputs": [
    {
     "name": "stdout",
     "output_type": "stream",
     "text": [
      "effective update interval (s):  0.04\n",
      "update sample rate:  25.0\n",
      "nyquist rate:  12.5\n"
     ]
    }
   ],
   "source": [
    "average_3dof_update_interval = 0.004\n",
    "dejitter_factor = 10.0\n",
    "\n",
    "effective_update_interval = average_3dof_update_interval * dejitter_factor\n",
    "\n",
    "print 'effective update interval (s): ', effective_update_interval\n",
    "print 'update sample rate: ', 1.0/effective_update_interval\n",
    "print 'nyquist rate: ', 0.5/effective_update_interval"
   ]
  },
  {
   "cell_type": "code",
   "execution_count": 3,
   "metadata": {
    "collapsed": false
   },
   "outputs": [],
   "source": [
    "%load_ext Cython"
   ]
  },
  {
   "cell_type": "code",
   "execution_count": 44,
   "metadata": {
    "collapsed": true
   },
   "outputs": [],
   "source": [
    "from Adafruit_BNO055 import BNO055\n",
    "import time"
   ]
  },
  {
   "cell_type": "code",
   "execution_count": 45,
   "metadata": {
    "collapsed": false
   },
   "outputs": [],
   "source": [
    "class BNO055_2(BNO055.BNO055):\n",
    "    def __init__(self, rst=None, address=BNO055.BNO055_ADDRESS_A, i2c=None, gpio=None,\n",
    "                 serial_port=None, serial_timeout_sec=5, baudrate=115200, **kwargs):\n",
    "        # If reset pin is provided save it and a reference to provided GPIO\n",
    "        # bus (or the default system GPIO bus if none is provided).\n",
    "        self._rst = rst\n",
    "        if self._rst is not None:\n",
    "            if gpio is None:\n",
    "                import Adafruit_GPIO as GPIO\n",
    "                gpio = GPIO.get_platform_gpio()\n",
    "            self._gpio = gpio\n",
    "            # Setup the reset pin as an output at a high level.\n",
    "            self._gpio.setup(self._rst, GPIO.OUT)\n",
    "            self._gpio.set_high(self._rst)\n",
    "            # Wait a 650 milliseconds in case setting the reset high reset the chip.\n",
    "            time.sleep(0.65)\n",
    "        self._serial = None\n",
    "        self._i2c_device = None\n",
    "        if serial_port is not None:\n",
    "            import serial\n",
    "            # Use serial communication if serial_port name is provided.\n",
    "            # Open the serial port at 115200 baud, 8N1.  Add a 5 second timeout\n",
    "            # to prevent hanging if device is disconnected.\n",
    "            print 'about to create Serial object'\n",
    "            self._serial = serial.Serial(serial_port, baudrate, timeout=serial_timeout_sec,\n",
    "                                         writeTimeout=serial_timeout_sec)\n",
    "        else:\n",
    "            # Use I2C if no serial port is provided.\n",
    "            # Assume we're using platform's default I2C bus if none is specified.\n",
    "            if i2c is None:\n",
    "                import Adafruit_GPIO.I2C as I2C\n",
    "                i2c = I2C\n",
    "            # Save a reference to the I2C device instance for later communication.\n",
    "            self._i2c_device = i2c.get_i2c_device(address, **kwargs)"
   ]
  },
  {
   "cell_type": "code",
   "execution_count": 8,
   "metadata": {
    "collapsed": true
   },
   "outputs": [],
   "source": [
    "def print_measurements(lin_accel,mag,gyro,accel):\n",
    "    print '({0:.3f}, {1:.3f}, {2:.3f})\\t({3:.3f}, {4:.3f}, {5:.3f})\\t({6:.3f}, {7:.3f}, {8:.3f})\\t({9:.3f}, {10:.3f}, {11:.3f})'.format(\n",
    "        lin_accel[0],\n",
    "        lin_accel[1],\n",
    "        lin_accel[2],\n",
    "        mag[0],\n",
    "        mag[1],\n",
    "        mag[2],\n",
    "        gyro[0],\n",
    "        gyro[1],\n",
    "        gyro[2],\n",
    "        accel[0],\n",
    "        accel[1],\n",
    "        accel[2])"
   ]
  },
  {
   "cell_type": "code",
   "execution_count": 9,
   "metadata": {
    "collapsed": true
   },
   "outputs": [],
   "source": [
    "def update_gyro_config(bno,page=0,bandwidth_code=0B111,range_code=0B000,verbose=False):\n",
    "\n",
    "  # - Switch to config mode\n",
    "  bno._config_mode()\n",
    "\n",
    "  # Select page 1 for gyro configuration\n",
    "  bno._write_byte(BNO055.BNO055_PAGE_ID_ADDR, page)\n",
    "  time.sleep(0.05)\n",
    "\n",
    "  gyro_config_address = 0XA\n",
    "  config_value = ((bandwidth_code << 3) | range_code) & 0X3F\n",
    "\n",
    "  if verbose:\n",
    "    prior_value = bno._read_byte(gyro_config_address)\n",
    "    time.sleep(0.05)\n",
    "    print 'setting gyro config: {0} - {1!s}'.format(config_value,get_binary_word_str(config_value))\n",
    "\n",
    "  # Update gyro settings\n",
    "  bno._write_byte(gyro_config_address,config_value)\n",
    "  time.sleep(0.05)\n",
    "\n",
    "  if verbose:\n",
    "    confirmation = bno._read_byte(gyro_config_address)\n",
    "    print 'confirmation - from: {0} to: {1}'.format(prior_value & 0X3F,confirmation & 0X3F)\n",
    "    print 'page ID: {}'.format(bno._read_byte(BNO055.BNO055_PAGE_ID_ADDR))\n",
    "\n",
    "  # Select page 0 since done with gyro configuration\n",
    "  bno._write_byte(BNO055.BNO055_PAGE_ID_ADDR, 0)\n",
    "\n",
    "  # - Back into operation mode\n",
    "  bno._operation_mode()\n",
    "\n",
    "  time.sleep(0.65)"
   ]
  },
  {
   "cell_type": "code",
   "execution_count": 77,
   "metadata": {
    "collapsed": false
   },
   "outputs": [],
   "source": [
    "def run_bno_test():\n",
    "\n",
    "  NUM_MEASUREMENTS = 100\n",
    "\n",
    "  start_time = time.time()\n",
    "\n",
    "  # Create and configure the BNO sensor connection.\n",
    "  # Raspberry Pi configuration with serial UART and RST connected to GPIO 18:\n",
    "  \n",
    "  #baudrate = 19200\n",
    "  #baudrate = 57600\n",
    "  baudrate = 115200\n",
    "  #baudrate = 230400\n",
    "  #baudrate = 921600\n",
    "  bno = BNO055_2(serial_port='/dev/ttyAMA0', rst=18, baudrate=baudrate)\n",
    "  #bno = BNO055.BNO055(serial_port='/dev/ttyAMA0', rst=18, )\n",
    "  #bno = BNO055.BNO055(serial_port='/dev/ttyAMA0', rst=18, serial_timeout_sec=None)\n",
    "  print 'baudrate: ',bno._serial._baudrate\n",
    "  \n",
    "  done_creating_bno_time = time.time()\n",
    "\n",
    "  # -- Reset bno and set to desired mode --\n",
    "  mode = BNO055.OPERATION_MODE_NDOF\n",
    "  #mode = BNO055.OPERATION_MODE_AMG\n",
    "  #mode = BNO055.OPERATION_MODE_GYRONLY\n",
    "  if not bno.begin(mode=mode):\n",
    "    raise RuntimeError('Failed to initialize BNO055!')\n",
    "  print 'Done starting BNO'\n",
    "\n",
    "  # 12 Hz Gyro BW\n",
    "  #update_gyro_config(bno,page=1,bandwidth_code=0B101,range_code=0B000,verbose=True)\n",
    "\n",
    "  print 'Linear Acceleration\\tMagnetometer\\t\\tGyroscope\\t\\tAccerlation'\n",
    "  lin_accel = (0,0,0)\n",
    "  mag = (0,0,0)\n",
    "  gyro = (0,0,0)\n",
    "  accel = (0,0,0)\n",
    "  \n",
    "  done_starting_bno_time = time.time()\n",
    "\n",
    "  for i in range(NUM_MEASUREMENTS):\n",
    "\n",
    "    lin_accel = bno.read_linear_acceleration()\n",
    "    #mag = bno.read_magnetometer()\n",
    "    #gyro = bno.read_gyroscope()\n",
    "    #accel = bno.read_accelerometer()\n",
    "\n",
    "    #print_measurements(lin_accel,mag,gyro,accel)\n",
    "\n",
    "  done_with_measurements_time = time.time()\n",
    "\n",
    "  print '\\ntime to create bno: {0}\\ntime to start bno: {1}\\ntime per measurement ({2}): {3}'.format(\n",
    "    done_creating_bno_time - start_time,\n",
    "    done_starting_bno_time - done_creating_bno_time,\n",
    "    NUM_MEASUREMENTS,\n",
    "    (done_with_measurements_time - done_starting_bno_time)/NUM_MEASUREMENTS)"
   ]
  },
  {
   "cell_type": "code",
   "execution_count": 78,
   "metadata": {
    "collapsed": false
   },
   "outputs": [
    {
     "name": "stdout",
     "output_type": "stream",
     "text": [
      "about to create Serial object\n",
      "baudrate:  115200\n",
      "Done starting BNO\n",
      "Linear Acceleration\tMagnetometer\t\tGyroscope\t\tAccerlation\n",
      "\n",
      "time to create bno: 0.658523082733\n",
      "time to start bno: 0.752493858337\n",
      "time per measurement (100): 0.00367509126663\n"
     ]
    }
   ],
   "source": [
    "run_bno_test()"
   ]
  },
  {
   "cell_type": "code",
   "execution_count": 79,
   "metadata": {
    "collapsed": false
   },
   "outputs": [
    {
     "name": "stdout",
     "output_type": "stream",
     "text": [
      "about to create Serial object\n",
      "baudrate:  115200\n",
      "Done starting BNO\n",
      "Linear Acceleration\tMagnetometer\t\tGyroscope\t\tAccerlation\n",
      "\n",
      "time to create bno: 0.661224842072\n",
      "time to start bno: 0.754898071289\n",
      "time per measurement (100): 0.0047691488266\n",
      " "
     ]
    }
   ],
   "source": [
    "%prun -s time run_bno_test()"
   ]
  },
  {
   "cell_type": "markdown",
   "metadata": {},
   "source": [
    "115200: 0.0126917657852"
   ]
  },
  {
   "cell_type": "code",
   "execution_count": null,
   "metadata": {
    "collapsed": true
   },
   "outputs": [],
   "source": [
    "%%cython --annotate"
   ]
  },
  {
   "cell_type": "code",
   "execution_count": 75,
   "metadata": {
    "collapsed": false,
    "scrolled": false
   },
   "outputs": [
    {
     "name": "stdout",
     "output_type": "stream",
     "text": [
      "Done starting BNO\n",
      "\n",
      "time to create bno: 0.65496301651\n",
      "time to start bno: 0.752311944962\n",
      "time per measurement (100): 0.00357923984528\n"
     ]
    }
   ],
   "source": [
    "%%cython\n",
    "from Adafruit_BNO055 import BNO055\n",
    "import time\n",
    "\n",
    "NUM_MEASUREMENTS = 100\n",
    "\n",
    "start_time = time.time()\n",
    "\n",
    "# Create and configure the BNO sensor connection.\n",
    "# Raspberry Pi configuration with serial UART and RST connected to GPIO 18:\n",
    "bno = BNO055.BNO055(serial_port='/dev/ttyAMA0', rst=18)\n",
    "#bno = BNO055.BNO055(serial_port='/dev/ttyAMA0', rst=18, serial_timeout_sec=None)\n",
    "\n",
    "done_creating_bno_time = time.time()\n",
    "\n",
    "# -- Reset bno and set to desired mode --\n",
    "\n",
    "mode = BNO055.OPERATION_MODE_NDOF\n",
    "#mode = BNO055.OPERATION_MODE_AMG\n",
    "#mode = BNO055.OPERATION_MODE_GYRONLY\n",
    "if not bno.begin(mode=mode):\n",
    "  raise RuntimeError('Failed to initialize BNO055!')\n",
    "print 'Done starting BNO'\n",
    "\n",
    "lin_accel = (0,0,0)\n",
    "mag = (0,0,0)\n",
    "gyro = (0,0,0)\n",
    "accel = (0,0,0)\n",
    "\n",
    "done_starting_bno_time = time.time()\n",
    "\n",
    "for i in range(NUM_MEASUREMENTS):\n",
    "\n",
    "    lin_accel = bno.read_linear_acceleration()\n",
    "    #mag = bno.read_magnetometer()\n",
    "    #gyro = bno.read_gyroscope()\n",
    "    #accel = bno.read_accelerometer()\n",
    "\n",
    "done_with_measurements_time = time.time()\n",
    "\n",
    "print '\\ntime to create bno: {0}\\ntime to start bno: {1}\\ntime per measurement ({2}): {3}'.format(\n",
    "    done_creating_bno_time - start_time,\n",
    "    done_starting_bno_time - done_creating_bno_time,\n",
    "    NUM_MEASUREMENTS,\n",
    "    (done_with_measurements_time - done_starting_bno_time)/NUM_MEASUREMENTS)"
   ]
  },
  {
   "cell_type": "code",
   "execution_count": null,
   "metadata": {
    "collapsed": true
   },
   "outputs": [],
   "source": []
  }
 ],
 "metadata": {
  "kernelspec": {
   "display_name": "Python 2",
   "language": "python",
   "name": "python2"
  },
  "language_info": {
   "codemirror_mode": {
    "name": "ipython",
    "version": 2
   },
   "file_extension": ".py",
   "mimetype": "text/x-python",
   "name": "python",
   "nbconvert_exporter": "python",
   "pygments_lexer": "ipython2",
   "version": "2.7.9"
  }
 },
 "nbformat": 4,
 "nbformat_minor": 1
}
