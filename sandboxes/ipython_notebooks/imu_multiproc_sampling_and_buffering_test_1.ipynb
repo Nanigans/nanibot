{
 "cells": [
  {
   "cell_type": "markdown",
   "metadata": {},
   "source": [
    "## Notes\n",
    "\n",
    "### Overview\n",
    "This notebook captures a series of tests performed on the Raspberry Pi 2 with the Adafruit BNO055 9-dof IMU sensor board.  The main goals for the tests were: \n",
    "- demonstrate the ability to launch a secondary python process, which periodically samples from the IMU sensor and stores measurements in a fixed size buffer that is accessible from the main process.\n",
    "- demonstrate the ability to synchronize reads from (Consumer) and write to (Producer) the shared buffer\n",
    "- characterize the behavior of the uniform sampling and buffering process (Producer) when the Consumer process has significant latency\n",
    "- characterize the results of applying bandpass filtering techniques to the buffered data on the Consumer side\n",
    "\n",
    "### Implementation Details\n",
    "- Candidate Implementation 1:\n",
    " - Parent defines the size of the data buffers and creates four buffers: x, y, z, t\n",
    " - Child process tries to fill data buffers with contiguous samples\n",
    " - Buffers are not readable until they are full\n",
    " - If a sample is missed, the buffers are cleared, filling starts over (this may be too conservative)\n",
    " - When the reader reads the buffers, they are cleared so filling can start over (this should ensure independence between read samples)\n",
    "- Candidate Implementation 2:\n",
    " - Consumer notifies producer that a measurement is needed\n",
    " - Producer then fills up buffers and notifies consumer when data is ready\n",
    " - Consumer notifies Producer when data successfully consumed\n",
    "\n",
    "Note: the implementation of the underlying periodic wakeups and serial communications were prototyped and documented in the following notebook: sandboxes/ipython_notebooks/imu_sample_rate_tests_3.ipynb\n",
    "\n",
    "### Test Design\n",
    "- Experiment 1: Fill buffer once, from spawned process\n",
    " - Consumer initializes 4 M-length data buffers (t,x,y,z) from shared memory\n",
    " - Consumer spawns child process to execute Producer code\n",
    " - Producer code uses setitimer() to periodically wake up and attempt to read measurements\n",
    " - Producer fills shared buffers with measurement and timing info until a stop condition occurs\n",
    " - Verify shared buffers contain valid data at end of test\n",
    "- Experiment 2: Producer-Consumer, N reads, post-hoc signal processing\n",
    " - Consumer initializes 4 M-length data buffers (t,x,y,z) from shared memory (shmem)\n",
    " - Consumer initializes a \"buffer offset\" variable from shmem to track buffer fullness\n",
    " - Consumer initializes a mutex and condition variable for Producer Consumer syncronization\n",
    " - Consumer spawns child process to execute Producer code, passing in data buffers, buffer offset variable, and syncronization objects\n",
    " - Producer code uses setitimer() to periodically wake up and attempt to read measurements\n",
    " - Producer fills shared buffers with measurement and timing info until a stop condition occurs\n",
    " - Producer signals Consumer (via condition variable) when buffers are full\n",
    " - Consumer waits on condition variable signal then reads all buffers and resets buffer offset\n",
    " - Consumer performs arbitrary, timed sleep operation to simulate latency\n",
    " - At end of test, verify buffered reads contained valid data\n",
    " - offline: Apply bandpass filter results data and examine filtered signals\n",
    "\n",
    "Note: In both experiments, IMU sensor and RPi were mounted on a 4-wheel rover, but the rover was stationary\n",
    " \n",
    "### Conclusions\n",
    "These experiments successfully demonstrated the ability to repeatedly Produce and Consume buffered data, in a syncronized fashion, with acceptable sampling uniformity within a given buffered data set.  This is all promising for the prospects of running a soft-realtime IMU sensor process in parallel with motor control and mission planning processes.  \n",
    "\n",
    "### Next Steps\n",
    "The next step is to run a sensor test similar to Experiment 2 while inducing real motion on the rover.  The goal of doing so is to further characterize the raw and filtered sensor signals under non-stationary conditions."
   ]
  },
  {
   "cell_type": "markdown",
   "metadata": {},
   "source": [
    "## Component Code"
   ]
  },
  {
   "cell_type": "code",
   "execution_count": 268,
   "metadata": {
    "collapsed": true
   },
   "outputs": [],
   "source": [
    "%matplotlib inline\n",
    "from __future__ import division\n",
    "import time\n",
    "import sys\n",
    "from scipy import signal\n",
    "import matplotlib.pyplot as plt\n",
    "import numpy as np"
   ]
  },
  {
   "cell_type": "code",
   "execution_count": 53,
   "metadata": {
    "collapsed": true
   },
   "outputs": [],
   "source": [
    "from Adafruit_BNO055 import BNO055\n",
    "import serial\n",
    "from serial.serialutil import SerialException\n",
    "\n",
    "class BNO055_2(BNO055.BNO055):\n",
    "    def __init__(self, rst=None, address=BNO055.BNO055_ADDRESS_A, i2c=None, gpio=None,\n",
    "                 serial_port=None, serial_timeout_sec=5, baudrate=115200, \n",
    "                 max_send_attempts=5, **kwargs):\n",
    "        # If reset pin is provided save it and a reference to provided GPIO\n",
    "        # bus (or the default system GPIO bus if none is provided).\n",
    "        self._rst = rst\n",
    "        if self._rst is not None:\n",
    "            if gpio is None:\n",
    "                import Adafruit_GPIO as GPIO\n",
    "                gpio = GPIO.get_platform_gpio()\n",
    "            self._gpio = gpio\n",
    "            # Setup the reset pin as an output at a high level.\n",
    "            self._gpio.setup(self._rst, GPIO.OUT)\n",
    "            self._gpio.set_high(self._rst)\n",
    "            # Wait a 650 milliseconds in case setting the reset high reset the chip.\n",
    "            time.sleep(0.65)\n",
    "        self._max_send_attempts=max_send_attempts\n",
    "        self._serial = None\n",
    "        self._i2c_device = None\n",
    "        if serial_port is not None:\n",
    "            # Use serial communication if serial_port name is provided.\n",
    "            # Open the serial port at 115200 baud, 8N1.  Add a 5 second timeout\n",
    "            # to prevent hanging if device is disconnected.\n",
    "            self._serial = serial.Serial(serial_port, baudrate, timeout=serial_timeout_sec,\n",
    "                                         writeTimeout=serial_timeout_sec)\n",
    "        else:\n",
    "            raise AttributeError('No valid serial interface specified.')\n",
    "        # - Brief pause to make sure everything finishes initializing (maybe not necessary)\n",
    "        time.sleep(0.001)\n",
    "        \n",
    "    def _serial_send(self, command, ack=True, max_attempts=5):\n",
    "        # Send a serial command and automatically handle if it needs to be resent\n",
    "        # because of a bus error.  If ack is True then an ackowledgement is\n",
    "        # expected and only up to the maximum specified attempts will be made\n",
    "        # to get a good acknowledgement (default is 5).  If ack is False then\n",
    "        # no acknowledgement is expected (like when resetting the device).\n",
    "        attempts = 0\n",
    "        while True:\n",
    "            # Flush any pending received data to get into a clean state.\n",
    "            self._serial.flushInput()\n",
    "            # Send the data.\n",
    "            self._serial.write(command)\n",
    "            #logger.debug('Serial send: 0x{0}'.format(binascii.hexlify(command)))\n",
    "            # Stop if no acknowledgment is expected.\n",
    "            if not ack:\n",
    "                return\n",
    "            # Read acknowledgement response (2 bytes).\n",
    "            resp = bytearray(self._serial.read(2))\n",
    "            #logger.debug('Serial receive: 0x{0}'.format(binascii.hexlify(resp)))\n",
    "            if resp is None or len(resp) != 2:\n",
    "                raise RuntimeError('Timeout waiting for serial acknowledge, is the BNO055 connected?')\n",
    "            # Stop if there's no bus error (0xEE07 response) and return response bytes.\n",
    "            if not (resp[0] == 0xEE and resp[1] == 0x07):\n",
    "                return resp\n",
    "            # Else there was a bus error so resend, as recommended in UART app\n",
    "            # note at:\n",
    "            #   http://ae-bst.resource.bosch.com/media/products/dokumente/bno055/BST-BNO055-AN012-00.pdf\n",
    "            attempts += 1\n",
    "            if attempts >=  self._max_send_attempts:\n",
    "                raise RuntimeError('Exceeded maximum attempts to acknowledge serial command without bus error!')"
   ]
  },
  {
   "cell_type": "code",
   "execution_count": 4,
   "metadata": {
    "collapsed": true
   },
   "outputs": [],
   "source": [
    "def wakeup_handler(signum, frame):\n",
    "    global wakeup_set, wakeup_wrap\n",
    "    if wakeup_set:\n",
    "        wakeup_wrap = True\n",
    "    wakeup_set = True\n",
    "\n",
    "def initialize_sensor_itimer(wakeup_interval_usec):\n",
    "    import signal\n",
    "    # Define sigaction for SIGALRM\n",
    "    signal.signal(signal.SIGALRM,wakeup_handler)\n",
    "    signal.setitimer(signal.ITIMER_REAL,wakeup_interval_usec*1e-6,wakeup_interval_usec*1e-6)\n",
    "    \n",
    "def cleanup_itimer():\n",
    "    import signal\n",
    "    signal.setitimer(signal.ITIMER_REAL,0,0)\n",
    "\n",
    "def finalize_wakeup_attempt():\n",
    "    global wakeup_set, wakeup_count, read_started, read_completed\n",
    "    wakeup_set = False\n",
    "    wakeup_count += 1\n",
    "    read_started = False\n",
    "    read_completed = True\n",
    "    "
   ]
  },
  {
   "cell_type": "markdown",
   "metadata": {},
   "source": [
    "## Experiments"
   ]
  },
  {
   "cell_type": "markdown",
   "metadata": {},
   "source": [
    "### Experiment 1: Fill buffer once, from spawned process"
   ]
  },
  {
   "cell_type": "code",
   "execution_count": 44,
   "metadata": {
    "collapsed": false
   },
   "outputs": [],
   "source": [
    "def run_serial_buffer_test_1(\n",
    "    num_samples, \n",
    "    sample_interval_usec, \n",
    "    max_read_retries, \n",
    "    t_array,\n",
    "    x_array, \n",
    "    y_array, \n",
    "    z_array):\n",
    "    \n",
    "    # Reset global variables (Probably necessary for repeated runs in iPython)\n",
    "    global wakeup_count, wakeup_set, read_started, read_completed, wakeup_wrap\n",
    "    wakeup_count = 0\n",
    "    wakeup_set = 0\n",
    "    read_started = 0\n",
    "    read_completed = 0\n",
    "    wakeup_wrap = 0\n",
    "    \n",
    "    # Compute operational constants\n",
    "    max_time_sec = 10 * num_samples * sample_interval_usec * 1.0e-6 # Extra factor of 10, so we don't get cutoff prematurely\n",
    "\n",
    "    \n",
    "    # Create serial adapter and initialize BNO055 sensor\n",
    "    imu = BNO055_2(\n",
    "        serial_port='/dev/ttyAMA0', \n",
    "        rst=18, \n",
    "        baudrate=115200,\n",
    "        max_send_attempts=max_read_retries)\n",
    "    \n",
    "    \n",
    "    # - Repeatedly Pole Sensor until end of test\n",
    "    loop_count, success_count, comm_fail_count = 0,0,0\n",
    "    wrap_count, max_comm_fail_count = 0,0\n",
    "    duration, heartbeat_duration = 0,0\n",
    "    \n",
    "    # Initialize buffer management\n",
    "    buffer_offset = 0\n",
    "    buffer_size = len(t_array)\n",
    "    print 'buffer_size: ',buffer_size\n",
    "    \n",
    "    # Initialize timers\n",
    "    start_time = time.time()\n",
    "    heartbeat_time = start_time\n",
    "    \n",
    "    try:\n",
    "        # Initialize the interupt timer for periodic wakeups\n",
    "        initialize_sensor_itimer(wakeup_interval_usec=sample_interval_usec)\n",
    "        \n",
    "        while True:\n",
    "            loop_count+=1        \n",
    "            if (loop_count % 100) == 0:\n",
    "                current_time = time.time()\n",
    "                duration = current_time - start_time\n",
    "                if duration >= max_time_sec:\n",
    "                    raise ValueError('Max program duration exceeded')\n",
    "            if (loop_count > 100*1e6):\n",
    "                raise ValueError('Max program loop count exceeded')\n",
    "            if (wakeup_count > num_samples):\n",
    "                raise ValueError('Max read attempts exceeded')\n",
    "            \n",
    "            # - Come in here if a scheduled wakeup occurred and has not been marked complete (by success or failure)\n",
    "            if wakeup_set:\n",
    "                # - Handle wakeup wrap condition\n",
    "                if wakeup_wrap:\n",
    "                    wakeup_wrap = False\n",
    "                    wrap_count += 1\n",
    "                    finalize_wakeup_attempt()\n",
    "                    # In the case of wakeup wrap, keep wakeup_set true, but count the failed attempt\n",
    "                    wakeup_set = True\n",
    "                \n",
    "                # Indicate that we have started trying to read from the sensor for the current scheduled wakeup\n",
    "                read_started = 1\n",
    "                read_completed = 0\n",
    "        \n",
    "                # DEBUG - Try to sleep for 1 sec, but expect to be interrupted\n",
    "                #time.sleep(.01)\n",
    "                # TODO: replace sleep with attempt to read linear accel (using max_read_retries)\n",
    "                try:\n",
    "                    if buffer_offset < buffer_size:\n",
    "                        x, y, z = imu.read_linear_acceleration()\n",
    "                        # - Debug code\n",
    "                        #if x != 0.0 or y != 0.0 or z != 0.0:\n",
    "                        #    print 'Non-zero measurements: {0}, {1}, {2}'.format(x,y,z)\n",
    "                        t_array[buffer_offset] = time.time()\n",
    "                        x_array[buffer_offset] = x\n",
    "                        y_array[buffer_offset] = y\n",
    "                        z_array[buffer_offset] = z\n",
    "                        buffer_offset += 1\n",
    "                except RuntimeError as err:\n",
    "                    print 'Runtime Exception: {}'.format(err)\n",
    "                    continue\n",
    "                except SerialException as err:\n",
    "                    print 'Serial Exception: {}'.format(err)\n",
    "                    continue\n",
    "                except:\n",
    "                    #print 'Unknown exception on wakeup: {}'.format(wakeup_count)\n",
    "                    continue\n",
    "                \n",
    "                success_count += 1\n",
    "                finalize_wakeup_attempt()\n",
    "    \n",
    "    except ValueError as err:\n",
    "        print 'Program ended: {}'.format(err)\n",
    "    finally:\n",
    "        cleanup_itimer()\n",
    "        \n",
    "    # - Cleanup after main program loop\n",
    "    print 'Program duration (sec): {:0.1f}'.format(duration)\n",
    "    print 'Total loop count: {}'.format(loop_count)\n",
    "    print 'Read attempts: {}'.format(wakeup_count)\n",
    "    print 'Sensor sample interval (ms): {:0.1f}'.format(sample_interval_usec/1000);\n",
    "    print 'Successful reads: {}'.format(success_count)\n",
    "    #printf(\"Max comm failure occurrences: %d\\n\",max_comm_fail_count);\n",
    "    print 'Wakeup wrap count: {}'.format(wrap_count);\n",
    "    print 'Read success rate: {:0.3f}'.format(success_count/wakeup_count);\n"
   ]
  },
  {
   "cell_type": "code",
   "execution_count": 51,
   "metadata": {
    "collapsed": false
   },
   "outputs": [
    {
     "name": "stdout",
     "output_type": "stream",
     "text": [
      "buffer_size:  10\n",
      "Program ended: Max read attempts exceeded\n",
      "Program duration (sec): 0.5\n",
      "Total loop count: 44535\n",
      "Read attempts: 51\n",
      "Sensor sample interval (ms): 10.0\n",
      "Successful reads: 50\n",
      "Wakeup wrap count: 1\n",
      "Read success rate: 0.980\n"
     ]
    }
   ],
   "source": [
    "from multiprocessing import Process, Array\n",
    "import time\n",
    "\n",
    "buffer_size = 10\n",
    "num_samples=50\n",
    "sample_interval_usec=10000\n",
    "max_read_retries=5\n",
    "\n",
    "t_arr = Array('d', range(buffer_size))\n",
    "x_arr = Array('d', range(buffer_size))\n",
    "y_arr = Array('d', range(buffer_size))\n",
    "z_arr = Array('d', range(buffer_size))\n",
    "\n",
    "p = Process(\n",
    "    target=run_serial_buffer_test_1, \n",
    "    args=(\n",
    "        num_samples,\n",
    "        sample_interval_usec,\n",
    "        max_read_retries,\n",
    "        t_arr,x_arr,y_arr,z_arr))\n",
    "\n",
    "launch_start_time = time.time()\n",
    "p.start()\n",
    "p.join()"
   ]
  },
  {
   "cell_type": "code",
   "execution_count": 52,
   "metadata": {
    "collapsed": false
   },
   "outputs": [
    {
     "name": "stdout",
     "output_type": "stream",
     "text": [
      "[0.8246440887451172, 0.8375060558319092, 0.8473320007324219, 0.8575870990753174, 0.8673200607299805, 0.8773090839385986, 0.8874151706695557, 0.8973000049591064, 0.9073150157928467, 0.917316198348999]\n",
      "[0.01, 0.01, 0.0, 0.01, 0.01, 0.01, 0.02, 0.02, 0.01, 0.03]\n",
      "[-0.03, 0.0, 0.0, -0.02, 0.0, -0.01, -0.01, -0.01, -0.01, -0.02]\n",
      "[0.06, 0.07, 0.1, 0.09, 0.03, 0.08, 0.07, 0.09, 0.05, -0.02]\n"
     ]
    }
   ],
   "source": [
    "print [t - launch_start_time for t in t_arr[:]]\n",
    "print x_arr[:]\n",
    "print y_arr[:]\n",
    "print z_arr[:]"
   ]
  },
  {
   "cell_type": "markdown",
   "metadata": {
    "collapsed": true
   },
   "source": [
    "### Experiment 2: Producer-Consumer, N reads, post-hoc signal processing"
   ]
  },
  {
   "cell_type": "code",
   "execution_count": 181,
   "metadata": {
    "collapsed": true
   },
   "outputs": [],
   "source": [
    "def run_serial_buffer_test_2(\n",
    "    num_samples, \n",
    "    sample_interval_usec, \n",
    "    max_read_retries, \n",
    "    t_array,\n",
    "    x_array, \n",
    "    y_array, \n",
    "    z_array,\n",
    "    buffer_offset,\n",
    "    buffer_full_condition,\n",
    "    buffer_mutex):\n",
    "    \n",
    "    # Reset global variables (Probably necessary for repeated runs in iPython)\n",
    "    global wakeup_count, wakeup_set, read_started, read_completed, wakeup_wrap\n",
    "    wakeup_count = 0\n",
    "    wakeup_set = 0\n",
    "    read_started = 0\n",
    "    read_completed = 0\n",
    "    wakeup_wrap = 0\n",
    "    \n",
    "    # Compute operational constants\n",
    "    max_time_sec = 10 * num_samples * sample_interval_usec * 1.0e-6 # Extra factor of 10, so we don't get cutoff prematurely\n",
    "\n",
    "    \n",
    "    # Create serial adapter and initialize BNO055 sensor\n",
    "    imu = BNO055_2(\n",
    "        serial_port='/dev/ttyAMA0', \n",
    "        rst=18, \n",
    "        baudrate=115200,\n",
    "        max_send_attempts=max_read_retries)\n",
    "    \n",
    "    \n",
    "    # - Repeatedly Pole Sensor until end of test\n",
    "    loop_count, success_count, comm_fail_count = 0,0,0\n",
    "    wrap_count, max_comm_fail_count = 0,0\n",
    "    duration, heartbeat_duration = 0,0\n",
    "    \n",
    "    # Initialize buffer management\n",
    "    buffer_size = len(t_array)\n",
    "    print 'buffer_size: ',buffer_size\n",
    "    \n",
    "    # Initialize timers\n",
    "    start_time = time.time()\n",
    "    heartbeat_time = start_time\n",
    "    \n",
    "    try:\n",
    "        # Initialize the interupt timer for periodic wakeups\n",
    "        initialize_sensor_itimer(wakeup_interval_usec=sample_interval_usec)\n",
    "        \n",
    "        while True:\n",
    "            loop_count+=1        \n",
    "            if (loop_count % 100) == 0:\n",
    "                current_time = time.time()\n",
    "                duration = current_time - start_time\n",
    "                if duration >= max_time_sec:\n",
    "                    raise ValueError('Max program duration exceeded')\n",
    "            if (loop_count > 100*1e6):\n",
    "                raise ValueError('Max program loop count exceeded')\n",
    "            if (wakeup_count > num_samples):\n",
    "                raise ValueError('Max read attempts exceeded')\n",
    "            \n",
    "            # - Come in here if a scheduled wakeup occurred and has not been marked complete (by success or failure)\n",
    "            if wakeup_set:\n",
    "                # - Handle wakeup wrap condition\n",
    "                if wakeup_wrap:\n",
    "                    wakeup_wrap = False\n",
    "                    wrap_count += 1\n",
    "                    finalize_wakeup_attempt()\n",
    "                    # In the case of wakeup wrap, keep wakeup_set true, but count the failed attempt\n",
    "                    wakeup_set = True\n",
    "                    # DEBUG\n",
    "                    #print 'Wakeup wrap!'\n",
    "                \n",
    "                # Indicate that we have started trying to read from the sensor for the current scheduled wakeup\n",
    "                read_started = 1\n",
    "                read_completed = 0\n",
    "        \n",
    "                # - Attempt to read linear accel (using max_read_retries)\n",
    "                try:\n",
    "                    # DEBUG\n",
    "                    #print 'Buffer offset: ',buffer_offset.value\n",
    "                    # Get lock for buffers\n",
    "                    buffer_mutex.acquire()\n",
    "                    # TODO: This could be improved by implementing as a FIFO that always has the \"freshest possible data\"\n",
    "                    if buffer_offset.value < buffer_size:\n",
    "                        x, y, z = imu.read_linear_acceleration()\n",
    "                        t_array[buffer_offset.value] = time.time()\n",
    "                        x_array[buffer_offset.value] = x\n",
    "                        y_array[buffer_offset.value] = y\n",
    "                        z_array[buffer_offset.value] = z\n",
    "                        buffer_offset.value += 1\n",
    "                        # Notify consumer that full buffer is ready to read\n",
    "                        if buffer_offset.value >= buffer_size:\n",
    "                            buffer_full_condition.acquire()\n",
    "                            buffer_full_condition.notify()\n",
    "                            buffer_full_condition.release()\n",
    "                    # Release lock on buffers\n",
    "                    buffer_mutex.release()\n",
    "                            \n",
    "                except RuntimeError as err:\n",
    "                    print 'Runtime Exception: {}'.format(err)\n",
    "                    continue\n",
    "                except SerialException as err:\n",
    "                    print 'Serial Exception: {}'.format(err)\n",
    "                    continue\n",
    "                except:\n",
    "                    exc_type, exc_value = sys.exc_info()[:2]\n",
    "                    print 'Unknown exception on wakeup: {0}\\n{1}\\n{2}'.format(\n",
    "                        wakeup_count,\n",
    "                        exc_type,\n",
    "                        exc_value)\n",
    "                    print 'about to release lock in child due to exception, buffer offset: ',buffer_offset.value\n",
    "                    buffer_mutex.release()\n",
    "                    #raise\n",
    "                    continue\n",
    "                \n",
    "                success_count += 1\n",
    "                finalize_wakeup_attempt()\n",
    "    \n",
    "    except ValueError as err:\n",
    "        print 'Program ended: {}'.format(err)\n",
    "    finally:\n",
    "        cleanup_itimer()\n",
    "        \n",
    "    # - Cleanup after main program loop\n",
    "    print 'Program duration (sec): {:0.1f}'.format(duration)\n",
    "    print 'Total loop count: {}'.format(loop_count)\n",
    "    print 'Read attempts: {}'.format(wakeup_count)\n",
    "    print 'Sensor sample interval (ms): {:0.1f}'.format(sample_interval_usec/1000);\n",
    "    print 'Successful reads: {}'.format(success_count)\n",
    "    #printf(\"Max comm failure occurrences: %d\\n\",max_comm_fail_count);\n",
    "    print 'Wakeup wrap count: {}'.format(wrap_count);\n",
    "    print 'Read success rate: {:0.3f}'.format(success_count/wakeup_count);\n"
   ]
  },
  {
   "cell_type": "code",
   "execution_count": 248,
   "metadata": {
    "collapsed": false,
    "scrolled": false
   },
   "outputs": [
    {
     "name": "stdout",
     "output_type": "stream",
     "text": [
      "buffer_size:  10\n",
      "Program ended: Max read attempts exceeded\n",
      "Program duration (sec): 1.7\n",
      "Total loop count: 36537\n",
      "Read attempts: 51\n",
      "Sensor sample interval (ms): 10.0\n",
      "Successful reads: 47\n",
      "Wakeup wrap count: 4\n",
      "Read success rate: 0.922\n",
      "all measurement times:\n",
      "0.910\t0.919\t0.929\t0.939\t0.952\t0.959\t0.969\t0.979\t0.989\t1.002\n",
      "1.009\t1.020\t1.030\t1.040\t1.052\t1.060\t1.070\t1.080\t1.090\t1.103\n",
      "1.518\t1.528\t1.538\t1.548\t1.558\t1.568\t1.578\t1.588\t1.598\t1.608\n",
      "2.018\t2.028\t2.038\t2.048\t2.059\t2.068\t2.078\t2.088\t2.098\t2.110\n",
      "2.520\t2.530\t2.540\t2.550\t2.563\t2.570\t2.580\t2.088\t2.098\t2.110\n"
     ]
    }
   ],
   "source": [
    "import multiprocessing as mproc\n",
    "import time\n",
    "import math\n",
    "\n",
    "buffer_size = 10\n",
    "num_samples=50\n",
    "sample_interval_usec=10000\n",
    "max_read_retries=5\n",
    "\n",
    "buffer_full_condition = mproc.Condition()\n",
    "buffer_mutex = mproc.Lock()\n",
    "\n",
    "t_arr = mproc.Array('d', range(buffer_size))\n",
    "x_arr = mproc.Array('d', range(buffer_size))\n",
    "y_arr = mproc.Array('d', range(buffer_size))\n",
    "z_arr = mproc.Array('d', range(buffer_size))\n",
    "buffer_offset = mproc.Value('i',0)\n",
    "\n",
    "p = mproc.Process(\n",
    "    target=run_serial_buffer_test_2, \n",
    "    args=(\n",
    "        num_samples,\n",
    "        sample_interval_usec,\n",
    "        max_read_retries,\n",
    "        t_arr,x_arr,y_arr,z_arr,\n",
    "        buffer_offset,\n",
    "        buffer_full_condition,\n",
    "        buffer_mutex))\n",
    "\n",
    "launch_start_time = time.time()\n",
    "p.start()\n",
    "\n",
    "all_times = []\n",
    "all_x_data = []\n",
    "all_y_data = []\n",
    "all_z_data = []\n",
    "for sample_ind in range(int(math.floor(num_samples/buffer_size))):\n",
    "    # Wait for notification buffer is full\n",
    "    buffer_full_condition.acquire()\n",
    "    buffer_full_condition.wait(timeout=1)\n",
    "    # Lock buffers from being modified while copying and resetting\n",
    "    buffer_mutex.acquire()\n",
    "    local_t = t_arr[:]\n",
    "    local_x = x_arr[:]\n",
    "    local_y = y_arr[:]\n",
    "    local_z = z_arr[:]\n",
    "    buffer_offset.value = 0\n",
    "    # Unlock buffers\n",
    "    buffer_mutex.release()\n",
    "    time.sleep(0.5)\n",
    "    buffer_full_condition.release()\n",
    "    all_times.append([l_t - launch_start_time for l_t in local_t])\n",
    "    all_x_data.append(local_x)\n",
    "    all_y_data.append(local_y)\n",
    "    all_z_data.append(local_z)\n",
    "    \n",
    "p.join(10)\n",
    "\n",
    "#all_times.append([l_t - launch_start_time for l_t in local_t])\n",
    "\n",
    "# Generate some output for debugging\n",
    "print 'all measurement times:'\n",
    "for buff_time in all_times:\n",
    "    print '\\t'.join(['{:.3f}'.format(t_str) for t_str in buff_time])\n"
   ]
  },
  {
   "cell_type": "code",
   "execution_count": 249,
   "metadata": {
    "collapsed": false
   },
   "outputs": [
    {
     "name": "stdout",
     "output_type": "stream",
     "text": [
      "10\n",
      "[0.08, 0.1, 0.01, 0.05, 0.1, 0.08, 0.05, 0.01, 0.04, 0.07]\n"
     ]
    }
   ],
   "source": [
    "print len(all_z_data[0])\n",
    "print all_z_data[0]"
   ]
  },
  {
   "cell_type": "code",
   "execution_count": 269,
   "metadata": {
    "collapsed": false
   },
   "outputs": [
    {
     "data": {
      "text/plain": [
       "<matplotlib.legend.Legend at 0xaab6a6d0>"
      ]
     },
     "execution_count": 269,
     "metadata": {},
     "output_type": "execute_result"
    },
    {
     "data": {
      "image/png": "[encoded data removed]",
      "text/plain": [
       "<matplotlib.figure.Figure at 0xaada2710>"
      ]
     },
     "metadata": {},
     "output_type": "display_data"
    }
   ],
   "source": [
    "#sig_data = all_x_data[0]\n",
    "#sig_data = all_y_data[0]\n",
    "sig_data = all_z_data[0]\n",
    "\n",
    "b, a = signal.butter(5, [0.1,0.50], 'bandpass', analog=False)\n",
    "filt_data = signal.filtfilt(b,a,sig_data,padtype='odd',padlen=0)\n",
    "\n",
    "fig, axes = plt.subplots(figsize=(8,3),nrows=1, ncols=1)\n",
    "current_axes = axes\n",
    "current_axes.plot(sig_data, linestyle='-', color='b', linewidth=4, alpha=0.5, label='raw')\n",
    "current_axes.plot(filt_data, linestyle='-', color='k', linewidth=1, alpha=1.0, label='filtered')\n",
    "current_axes.set_ylabel('Signals', fontsize=10)\n",
    "current_axes.legend(loc='upper right')"
   ]
  },
  {
   "cell_type": "markdown",
   "metadata": {},
   "source": [
    "## Sandbox"
   ]
  },
  {
   "cell_type": "code",
   "execution_count": 171,
   "metadata": {
    "collapsed": false
   },
   "outputs": [
    {
     "data": {
      "text/plain": [
       "False"
      ]
     },
     "execution_count": 171,
     "metadata": {},
     "output_type": "execute_result"
    }
   ],
   "source": [
    "p.is_alive()"
   ]
  },
  {
   "cell_type": "code",
   "execution_count": 110,
   "metadata": {
    "collapsed": false
   },
   "outputs": [],
   "source": [
    "p.join()"
   ]
  },
  {
   "cell_type": "code",
   "execution_count": 198,
   "metadata": {
    "collapsed": true
   },
   "outputs": [],
   "source": [
    "%matplotlib inline\n",
    "from scipy import signal\n",
    "import matplotlib.pyplot as plt\n",
    "import numpy as np"
   ]
  },
  {
   "cell_type": "code",
   "execution_count": 216,
   "metadata": {
    "collapsed": false
   },
   "outputs": [
    {
     "name": "stdout",
     "output_type": "stream",
     "text": [
      "numerator:  [ 0.0527864   0.26393202  0.52786405  0.52786405  0.26393202  0.0527864 ]\n",
      "denominator:  [  1.00000000e+00  -4.16333634e-16   6.33436854e-01  -1.31860534e-16\n",
      "   5.57280900e-02  -3.09353043e-18]\n"
     ]
    },
    {
     "data": {
      "text/plain": [
       "(-500, 50)"
      ]
     },
     "execution_count": 216,
     "metadata": {},
     "output_type": "execute_result"
    },
    {
     "data": {
      "image/png": "[encoded data removed]",
      "text/plain": [
       "<matplotlib.figure.Figure at 0xad3f0230>"
      ]
     },
     "metadata": {},
     "output_type": "display_data"
    }
   ],
   "source": [
    "b, a = signal.butter(5, 0.5, 'low', analog=False)\n",
    "w, h = signal.freqz(b,a)\n",
    "\n",
    "print 'numerator: ',b\n",
    "print 'denominator: ',a\n",
    "\n",
    "fig, axes = plt.subplots(figsize=(8,3),nrows=1, ncols=1)\n",
    "current_axes = axes\n",
    "current_axes.plot(w/math.pi, 20 * np.log10(abs(h)), 'b')\n",
    "current_axes.set_ylabel('Amplitude [dB]', fontsize=10)\n",
    "current_axes.set_xlabel('Frequency [fraction of Nyquist Rate]', fontsize=8)\n",
    "current_axes.set_ylim([-500,50])"
   ]
  },
  {
   "cell_type": "code",
   "execution_count": 218,
   "metadata": {
    "collapsed": false
   },
   "outputs": [
    {
     "name": "stdout",
     "output_type": "stream",
     "text": [
      "numerator:  [ 0.7753166   3.87658298  7.75316595  7.75316595  3.87658298  0.7753166 ]\n",
      "denominator:  [ 1.          4.49183097  8.09405542  7.31208128  3.31104756  0.60111582]\n"
     ]
    },
    {
     "data": {
      "text/plain": [
       "(-500, 50)"
      ]
     },
     "execution_count": 218,
     "metadata": {},
     "output_type": "execute_result"
    },
    {
     "data": {
      "image/png": "[encoded data removed]",
      "text/plain": [
       "<matplotlib.figure.Figure at 0xad729890>"
      ]
     },
     "metadata": {},
     "output_type": "display_data"
    }
   ],
   "source": [
    "b, a = signal.butter(5, 0.95, 'low', analog=False)\n",
    "w, h = signal.freqz(b,a)\n",
    "\n",
    "print 'numerator: ',b\n",
    "print 'denominator: ',a\n",
    "\n",
    "fig, axes = plt.subplots(figsize=(8,3),nrows=1, ncols=1)\n",
    "current_axes = axes\n",
    "current_axes.plot(w/math.pi, 20 * np.log10(abs(h)), 'b')\n",
    "current_axes.set_ylabel('Amplitude [dB]', fontsize=10)\n",
    "current_axes.set_xlabel('Frequency [fraction of Nyquist Rate]', fontsize=8)\n",
    "current_axes.set_ylim([-500,50])"
   ]
  },
  {
   "cell_type": "code",
   "execution_count": 238,
   "metadata": {
    "collapsed": false
   },
   "outputs": [
    {
     "name": "stdout",
     "output_type": "stream",
     "text": [
      "numerator:  [ 0.5999402   0.         -2.99970102  0.          5.99940204  0.\n",
      " -5.99940204  0.          2.99970102  0.         -0.5999402 ]\n",
      "denominator:  [  1.00000000e+00  -1.77635684e-15  -3.98454312e+00   2.66453526e-15\n",
      "   6.43486709e+00  -7.10542736e-15  -5.25361517e+00  -1.11022302e-15\n",
      "   2.16513291e+00  -3.33066907e-16  -3.59928245e-01]\n"
     ]
    },
    {
     "data": {
      "text/plain": [
       "(-500, 50)"
      ]
     },
     "execution_count": 238,
     "metadata": {},
     "output_type": "execute_result"
    },
    {
     "data": {
      "image/png": "[encoded data removed]",
      "text/plain": [
       "<matplotlib.figure.Figure at 0xad233f30>"
      ]
     },
     "metadata": {},
     "output_type": "display_data"
    }
   ],
   "source": [
    "b, a = signal.butter(5, [0.05,0.95], 'bandpass', analog=False)\n",
    "w, h = signal.freqz(b,a,128)\n",
    "\n",
    "print 'numerator: ',b\n",
    "print 'denominator: ',a\n",
    "\n",
    "fig, axes = plt.subplots(figsize=(8,3),nrows=1, ncols=1)\n",
    "current_axes = axes\n",
    "current_axes.plot(w/math.pi, 20 * np.log10(abs(h)), 'b')\n",
    "current_axes.set_ylabel('Amplitude [dB]', fontsize=10)\n",
    "current_axes.set_xlabel('Frequency [fraction of Nyquist Rate]', fontsize=8)\n",
    "current_axes.set_ylim([-500,50])"
   ]
  },
  {
   "cell_type": "code",
   "execution_count": 267,
   "metadata": {
    "collapsed": false
   },
   "outputs": [
    {
     "data": {
      "text/plain": [
       "<matplotlib.legend.Legend at 0xaad62bf0>"
      ]
     },
     "execution_count": 267,
     "metadata": {},
     "output_type": "execute_result"
    },
    {
     "data": {
      "image/png": "[encoded data removed]",
      "text/plain": [
       "<matplotlib.figure.Figure at 0xaae0f0d0>"
      ]
     },
     "metadata": {},
     "output_type": "display_data"
    }
   ],
   "source": [
    "#sig_data = all_x_data[0]\n",
    "#sig_data = all_y_data[0]\n",
    "sig_data = all_z_data[0]\n",
    "\n",
    "b, a = signal.butter(5, [0.1,0.50], 'bandpass', analog=False)\n",
    "filt_data = signal.filtfilt(b,a,sig_data,padtype='odd',padlen=0)\n",
    "#b, a = signal.butter(5, [0.95], 'low', analog=False)\n",
    "#filt_data = signal.filtfilt(b,a,sig_data,padtype='odd',padlen=0)\n",
    "#b, a = signal.butter(5, [0.05], 'high', analog=False)\n",
    "#filt_data = signal.filtfilt(b,a,sig_data,padtype='odd',padlen=0)\n",
    "\n",
    "fig, axes = plt.subplots(figsize=(8,3),nrows=1, ncols=1)\n",
    "current_axes = axes\n",
    "current_axes.plot(sig_data, linestyle='-', color='b', linewidth=4, alpha=0.5, label='raw')\n",
    "current_axes.plot(filt_data, linestyle='-', color='k', linewidth=1, alpha=1.0, label='filtered')\n",
    "current_axes.set_ylabel('Signals', fontsize=10)\n",
    "current_axes.legend(loc='upper right')\n",
    "#current_axes.set_xlabel('Frequency [fraction of Nyquist Rate]', fontsize=8)\n",
    "#current_axes.set_ylim([-500,50])"
   ]
  },
  {
   "cell_type": "code",
   "execution_count": null,
   "metadata": {
    "collapsed": true
   },
   "outputs": [],
   "source": []
  }
 ],
 "metadata": {
  "kernelspec": {
   "display_name": "Python 2",
   "language": "python",
   "name": "python2"
  },
  "language_info": {
   "codemirror_mode": {
    "name": "ipython",
    "version": 2
   },
   "file_extension": ".py",
   "mimetype": "text/x-python",
   "name": "python",
   "nbconvert_exporter": "python",
   "pygments_lexer": "ipython2",
   "version": "2.7.9"
  }
 },
 "nbformat": 4,
 "nbformat_minor": 1
}
