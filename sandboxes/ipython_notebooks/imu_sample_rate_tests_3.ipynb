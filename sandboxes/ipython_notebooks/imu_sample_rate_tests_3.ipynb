{
 "cells": [
  {
   "cell_type": "markdown",
   "metadata": {},
   "source": [
    "## Notes\n",
    "\n",
    "### Overview\n",
    "This notebook captures a series of tests performed on the Raspberry Pi 2 with the Adafruit BNO055 9-dof IMU sensor board.  The main purpose of the tests was to characterize the reliability with which IMU sensor readings can be obtained for a variety of periodic sampling schedules, using a pure python implementation\n",
    "\n",
    "### Test Design\n",
    "The following tests show several performance metrics for each test case:\n",
    "- Successful reads: Total successful reads (of x,y,z linear acceleration measurements)\n",
    "- Wakeup wrap count: Total occurrences of a periodic wakeup that was interupted by the subsequent wakeup while waiting for the serial read operations to complete (including retries)\n",
    "- Read success rate: Successful reads / Read attempts, i.e. the average success rate overall all scheduled wakeups\n",
    "\n",
    "### Conclusions\n",
    "The pure python implementation did not appear to have any higher wrap rate or comm failure rate than the C-based or Cython implementations.  This suggests that the baudrate is probably the limiting factor in data transfer, not the code latency.  (The Cython implementation is summarized here: sandboxes/ipython_notebooks/imu_sample_rate_tests_2.ipynb)"
   ]
  },
  {
   "cell_type": "code",
   "execution_count": 6,
   "metadata": {
    "collapsed": true
   },
   "outputs": [],
   "source": [
    "from __future__ import division\n",
    "import time"
   ]
  },
  {
   "cell_type": "code",
   "execution_count": 43,
   "metadata": {
    "collapsed": true
   },
   "outputs": [],
   "source": [
    "from Adafruit_BNO055 import BNO055\n",
    "import serial\n",
    "from serial.serialutil import SerialException\n",
    "\n",
    "class BNO055_2(BNO055.BNO055):\n",
    "    def __init__(self, rst=None, address=BNO055.BNO055_ADDRESS_A, i2c=None, gpio=None,\n",
    "                 serial_port=None, serial_timeout_sec=5, baudrate=115200, \n",
    "                 max_send_attempts=5, **kwargs):\n",
    "        # If reset pin is provided save it and a reference to provided GPIO\n",
    "        # bus (or the default system GPIO bus if none is provided).\n",
    "        self._rst = rst\n",
    "        if self._rst is not None:\n",
    "            if gpio is None:\n",
    "                import Adafruit_GPIO as GPIO\n",
    "                gpio = GPIO.get_platform_gpio()\n",
    "            self._gpio = gpio\n",
    "            # Setup the reset pin as an output at a high level.\n",
    "            self._gpio.setup(self._rst, GPIO.OUT)\n",
    "            self._gpio.set_high(self._rst)\n",
    "            # Wait a 650 milliseconds in case setting the reset high reset the chip.\n",
    "            time.sleep(0.65)\n",
    "        self._max_send_attempts=max_send_attempts\n",
    "        self._serial = None\n",
    "        self._i2c_device = None\n",
    "        if serial_port is not None:\n",
    "            # Use serial communication if serial_port name is provided.\n",
    "            # Open the serial port at 115200 baud, 8N1.  Add a 5 second timeout\n",
    "            # to prevent hanging if device is disconnected.\n",
    "            self._serial = serial.Serial(serial_port, baudrate, timeout=serial_timeout_sec,\n",
    "                                         writeTimeout=serial_timeout_sec)\n",
    "        else:\n",
    "            raise AttributeError('No valid serial interface specified.')\n",
    "            \n",
    "    def _serial_send(self, command, ack=True, max_attempts=5):\n",
    "        # Send a serial command and automatically handle if it needs to be resent\n",
    "        # because of a bus error.  If ack is True then an ackowledgement is\n",
    "        # expected and only up to the maximum specified attempts will be made\n",
    "        # to get a good acknowledgement (default is 5).  If ack is False then\n",
    "        # no acknowledgement is expected (like when resetting the device).\n",
    "        attempts = 0\n",
    "        while True:\n",
    "            # Flush any pending received data to get into a clean state.\n",
    "            self._serial.flushInput()\n",
    "            # Send the data.\n",
    "            self._serial.write(command)\n",
    "            #logger.debug('Serial send: 0x{0}'.format(binascii.hexlify(command)))\n",
    "            # Stop if no acknowledgment is expected.\n",
    "            if not ack:\n",
    "                return\n",
    "            # Read acknowledgement response (2 bytes).\n",
    "            resp = bytearray(self._serial.read(2))\n",
    "            #logger.debug('Serial receive: 0x{0}'.format(binascii.hexlify(resp)))\n",
    "            if resp is None or len(resp) != 2:\n",
    "                raise RuntimeError('Timeout waiting for serial acknowledge, is the BNO055 connected?')\n",
    "            # Stop if there's no bus error (0xEE07 response) and return response bytes.\n",
    "            if not (resp[0] == 0xEE and resp[1] == 0x07):\n",
    "                return resp\n",
    "            # Else there was a bus error so resend, as recommended in UART app\n",
    "            # note at:\n",
    "            #   http://ae-bst.resource.bosch.com/media/products/dokumente/bno055/BST-BNO055-AN012-00.pdf\n",
    "            attempts += 1\n",
    "            if attempts >=  self._max_send_attempts:\n",
    "                raise RuntimeError('Exceeded maximum attempts to acknowledge serial command without bus error!')"
   ]
  },
  {
   "cell_type": "code",
   "execution_count": 22,
   "metadata": {
    "collapsed": true
   },
   "outputs": [],
   "source": [
    "def wakeup_handler(signum, frame):\n",
    "    global wakeup_set, wakeup_wrap\n",
    "    if wakeup_set:\n",
    "        wakeup_wrap = True\n",
    "    wakeup_set = True\n",
    "\n",
    "def initialize_sensor_itimer(wakeup_interval_usec):\n",
    "    import signal\n",
    "    # Define sigaction for SIGALRM\n",
    "    signal.signal(signal.SIGALRM,wakeup_handler)\n",
    "    signal.setitimer(signal.ITIMER_REAL,wakeup_interval_usec*1e-6,wakeup_interval_usec*1e-6)\n",
    "    \n",
    "def cleanup_itimer():\n",
    "    import signal\n",
    "    signal.setitimer(signal.ITIMER_REAL,0,0)\n",
    "\n",
    "def finalize_wakeup_attempt():\n",
    "    global wakeup_set, wakeup_count, read_started, read_completed\n",
    "    wakeup_set = False\n",
    "    wakeup_count += 1\n",
    "    read_started = False\n",
    "    read_completed = True\n",
    "    "
   ]
  },
  {
   "cell_type": "code",
   "execution_count": 54,
   "metadata": {
    "collapsed": false
   },
   "outputs": [],
   "source": [
    "def run_serial_read_test(num_samples, sample_interval_usec, max_read_retries):\n",
    "    \n",
    "    # Reset global variables (Probably necessary for repeated runs in iPython)\n",
    "    global wakeup_count, wakeup_set, read_started, read_completed, wakeup_wrap\n",
    "    wakeup_count = 0\n",
    "    wakeup_set = 0\n",
    "    read_started = 0\n",
    "    read_completed = 0\n",
    "    wakeup_wrap = 0\n",
    "    \n",
    "    # Compute operational constants\n",
    "    max_time_sec = 10 * num_samples * sample_interval_usec * 1.0e-6 # Extra factor of 10, so we don't get cutoff prematurely\n",
    "\n",
    "    \n",
    "    # Create serial adapter and initialize BNO055 sensor\n",
    "    imu = BNO055_2(\n",
    "        serial_port='/dev/ttyAMA0', \n",
    "        rst=18, \n",
    "        baudrate=115200,\n",
    "        max_send_attempts=max_read_retries)\n",
    "    \n",
    "    # Repeatedly Pole Sensor until end of test\n",
    "    loop_count, success_count, comm_fail_count = 0,0,0\n",
    "    wrap_count, max_comm_fail_count = 0,0\n",
    "    duration, heartbeat_duration = 0,0\n",
    "    \n",
    "    # Initialize timers\n",
    "    start_time = time.time()\n",
    "    heartbeat_time = start_time\n",
    "    \n",
    "    try:\n",
    "        # Initialize the interupt timer for periodic wakeups\n",
    "        initialize_sensor_itimer(wakeup_interval_usec=sample_interval_usec)\n",
    "        \n",
    "        while True:\n",
    "            loop_count+=1        \n",
    "            if (loop_count % 100) == 0:\n",
    "                current_time = time.time()\n",
    "                duration = current_time - start_time\n",
    "                if duration >= max_time_sec:\n",
    "                    raise ValueError('Max program duration exceeded')\n",
    "            if (loop_count > 100*1e6):\n",
    "                raise ValueError('Max program loop count exceeded')\n",
    "            if (wakeup_count > num_samples):\n",
    "                raise ValueError('Max read attempts exceeded')\n",
    "            \n",
    "            # - Come in here if a scheduled wakeup occurred and has not been marked complete (by success or failure)\n",
    "            if wakeup_set:\n",
    "                # - Handle wakeup wrap condition\n",
    "                if wakeup_wrap:\n",
    "                    wakeup_wrap = False\n",
    "                    wrap_count += 1\n",
    "                    finalize_wakeup_attempt()\n",
    "                    # In the case of wakeup wrap, keep wakeup_set true, but count the failed attempt\n",
    "                    wakeup_set = True\n",
    "                \n",
    "                # Indicate that we have started trying to read from the sensor for the current scheduled wakeup\n",
    "                read_started = 1\n",
    "                read_completed = 0\n",
    "        \n",
    "                # DEBUG - Try to sleep for 1 sec, but expect to be interrupted\n",
    "                #time.sleep(.01)\n",
    "                # TODO: replace sleep with attempt to read linear accel (using max_read_retries)\n",
    "                try:\n",
    "                    x, y, z = imu.read_linear_acceleration()\n",
    "                except RuntimeError as err:\n",
    "                    print 'Runtime Exception: {}'.format(err)\n",
    "                    continue\n",
    "                except SerialException as err:\n",
    "                    print 'Serial Exception: {}'.format(err)\n",
    "                    continue\n",
    "                except:\n",
    "                    #print 'Unknown exception on wakeup: {}'.format(wakeup_count)\n",
    "                    continue\n",
    "                \n",
    "                success_count += 1\n",
    "                finalize_wakeup_attempt()\n",
    "    \n",
    "    except ValueError as err:\n",
    "        print 'Program ended: {}'.format(err)\n",
    "    finally:\n",
    "        cleanup_itimer()\n",
    "        \n",
    "    # - Cleanup after main program loop\n",
    "    print 'Program duration (sec): {:0.1f}'.format(duration)\n",
    "    print 'Total loop count: {}'.format(loop_count)\n",
    "    print 'Read attempts: {}'.format(wakeup_count)\n",
    "    print 'Sensor sample interval (ms): {:0.1f}'.format(sample_interval_usec/1000);\n",
    "    print 'Successful reads: {}'.format(success_count)\n",
    "    #printf(\"Max comm failure occurrences: %d\\n\",max_comm_fail_count);\n",
    "    print 'Wakeup wrap count: {}'.format(wrap_count);\n",
    "    print 'Read success rate: {:0.3f}'.format(success_count/wakeup_count);\n"
   ]
  },
  {
   "cell_type": "markdown",
   "metadata": {},
   "source": [
    "### Experiments"
   ]
  },
  {
   "cell_type": "code",
   "execution_count": 48,
   "metadata": {
    "collapsed": false
   },
   "outputs": [
    {
     "name": "stdout",
     "output_type": "stream",
     "text": [
      "Program ended: Max read attempts exceeded\n",
      "Program duration (sec): 50.0\n",
      "Total loop count: 5003210\n",
      "Read attempts: 1001\n",
      "Sensor sample interval (ms): 50.0\n",
      "Successful reads: 1001\n",
      "Wakeup wrap count: 0\n",
      "Read success rate: 1.000\n"
     ]
    }
   ],
   "source": [
    "run_serial_read_test(num_samples=1000, sample_interval_usec=50000, max_read_retries=5)"
   ]
  },
  {
   "cell_type": "code",
   "execution_count": 49,
   "metadata": {
    "collapsed": false
   },
   "outputs": [
    {
     "name": "stdout",
     "output_type": "stream",
     "text": [
      "Program ended: Max read attempts exceeded\n",
      "Program duration (sec): 10.0\n",
      "Total loop count: 963311\n",
      "Read attempts: 1001\n",
      "Sensor sample interval (ms): 10.0\n",
      "Successful reads: 1000\n",
      "Wakeup wrap count: 1\n",
      "Read success rate: 0.999\n"
     ]
    }
   ],
   "source": [
    "run_serial_read_test(num_samples=1000, sample_interval_usec=10000, max_read_retries=5)"
   ]
  },
  {
   "cell_type": "code",
   "execution_count": 57,
   "metadata": {
    "collapsed": false
   },
   "outputs": [
    {
     "name": "stdout",
     "output_type": "stream",
     "text": [
      "Program ended: Max read attempts exceeded\n",
      "Program duration (sec): 7.5\n",
      "Total loop count: 653981\n",
      "Read attempts: 1001\n",
      "Sensor sample interval (ms): 7.5\n",
      "Successful reads: 999\n",
      "Wakeup wrap count: 2\n",
      "Read success rate: 0.998\n"
     ]
    }
   ],
   "source": [
    "run_serial_read_test(num_samples=1000, sample_interval_usec=7500, max_read_retries=5)"
   ]
  },
  {
   "cell_type": "code",
   "execution_count": 58,
   "metadata": {
    "collapsed": false
   },
   "outputs": [
    {
     "name": "stdout",
     "output_type": "stream",
     "text": [
      "Program ended: Max read attempts exceeded\n",
      "Program duration (sec): 5.0\n",
      "Total loop count: 316423\n",
      "Read attempts: 1001\n",
      "Sensor sample interval (ms): 5.0\n",
      "Successful reads: 997\n",
      "Wakeup wrap count: 4\n",
      "Read success rate: 0.996\n"
     ]
    }
   ],
   "source": [
    "run_serial_read_test(num_samples=1000, sample_interval_usec=5000, max_read_retries=5)"
   ]
  },
  {
   "cell_type": "code",
   "execution_count": 55,
   "metadata": {
    "collapsed": false,
    "scrolled": true
   },
   "outputs": [
    {
     "name": "stdout",
     "output_type": "stream",
     "text": [
      "Program ended: Max read attempts exceeded\n",
      "Program duration (sec): 1.2\n",
      "Total loop count: 7363\n",
      "Read attempts: 1001\n",
      "Sensor sample interval (ms): 1.0\n",
      "Successful reads: 318\n",
      "Wakeup wrap count: 683\n",
      "Read success rate: 0.318\n"
     ]
    }
   ],
   "source": [
    "run_serial_read_test(num_samples=1000, sample_interval_usec=1000, max_read_retries=5)"
   ]
  },
  {
   "cell_type": "code",
   "execution_count": null,
   "metadata": {
    "collapsed": true
   },
   "outputs": [],
   "source": []
  }
 ],
 "metadata": {
  "kernelspec": {
   "display_name": "Python 2",
   "language": "python",
   "name": "python2"
  },
  "language_info": {
   "codemirror_mode": {
    "name": "ipython",
    "version": 2
   },
   "file_extension": ".py",
   "mimetype": "text/x-python",
   "name": "python",
   "nbconvert_exporter": "python",
   "pygments_lexer": "ipython2",
   "version": "2.7.9"
  }
 },
 "nbformat": 4,
 "nbformat_minor": 1
}
